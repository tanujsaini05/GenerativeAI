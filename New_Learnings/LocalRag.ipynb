{
 "cells": [
  {
   "cell_type": "code",
   "execution_count": 1,
   "metadata": {},
   "outputs": [],
   "source": [
    "from langchain_community.document_loaders import UnstructuredURLLoader\n",
    "\n",
    "\n",
    "urls = [\n",
    "    \"https://www.hindustantimes.com/world-news/us-news/donald-trump-to-announce-new-reciprocal-tariffs-shortly-ahead-of-meeting-with-pm-modi-101739471114365.html\",\n",
    "    \"https://www.bloomberg.com/news/newsletters/2025-02-14/president-trump-s-tariff-plan-is-pushed-to-april\",\n",
    "    \"https://m.economictimes.com/news/economy/foreign-trade/trump-brandishes-his-big-weapon-what-are-reciprocal-tariffs/articleshow/118220603.cms\",\n",
    "    \"https://www.moneycontrol.com/news/opinion/what-is-donald-trump-s-reciprocal-tariff-plan-12941110.html\"\n",
    "]\n",
    "\n",
    "loader =  UnstructuredURLLoader(urls = urls )\n",
    "data = loader.load()"
   ]
  },
  {
   "cell_type": "code",
   "execution_count": 2,
   "metadata": {},
   "outputs": [
    {
     "data": {
      "text/plain": [
       "4"
      ]
     },
     "execution_count": 2,
     "metadata": {},
     "output_type": "execute_result"
    }
   ],
   "source": [
    "len(data)"
   ]
  },
  {
   "cell_type": "code",
   "execution_count": 3,
   "metadata": {},
   "outputs": [
    {
     "name": "stdout",
     "output_type": "stream",
     "text": [
      "Total number of documents:  34\n"
     ]
    }
   ],
   "source": [
    "from langchain.text_splitter import RecursiveCharacterTextSplitter\n",
    "\n",
    "# split data\n",
    "text_splitter = RecursiveCharacterTextSplitter(chunk_size=1000)\n",
    "docs = text_splitter.split_documents(data)\n",
    "\n",
    "\n",
    "print(\"Total number of documents: \",len(docs))\n",
    "\n"
   ]
  },
  {
   "cell_type": "code",
   "execution_count": 4,
   "metadata": {},
   "outputs": [
    {
     "data": {
      "text/plain": [
       "Document(metadata={'source': 'https://m.economictimes.com/news/economy/foreign-trade/trump-brandishes-his-big-weapon-what-are-reciprocal-tariffs/articleshow/118220603.cms'}, page_content='ET OnlineLast Updated: Feb 14, 2025, 12:20:00 AM IST\\n\\nRate Story\\n\\nFollow us\\n\\nShare\\n\\nFont Size\\n\\nAbcSmall\\n\\nAbcMedium\\n\\nAbcLarge\\n\\nSave\\n\\nPrint\\n\\nComment\\n\\nSynopsis\\n\\nJust before meeting Narendra Modi, US President Donald Trump announced plans to impose reciprocal tariffs on countries matching their tariffs on US goods. This move, intended to address trade imbalances, could stir international tensions and impact global economic growth. Reciprocal tariffs are expected to align American tariffs with those imposed by other countries.')"
      ]
     },
     "execution_count": 4,
     "metadata": {},
     "output_type": "execute_result"
    }
   ],
   "source": [
    "docs[3]"
   ]
  },
  {
   "cell_type": "code",
   "execution_count": 5,
   "metadata": {},
   "outputs": [
    {
     "name": "stderr",
     "output_type": "stream",
     "text": [
      "C:\\Users\\tjwin\\AppData\\Local\\Temp\\ipykernel_228\\2980807805.py:2: LangChainDeprecationWarning: The class `HuggingFaceEmbeddings` was deprecated in LangChain 0.2.2 and will be removed in 1.0. An updated version of the class exists in the :class:`~langchain-huggingface package and should be used instead. To use it run `pip install -U :class:`~langchain-huggingface` and import as `from :class:`~langchain_huggingface import HuggingFaceEmbeddings``.\n",
      "  embeddings = HuggingFaceEmbeddings()\n",
      "C:\\Users\\tjwin\\AppData\\Local\\Temp\\ipykernel_228\\2980807805.py:2: LangChainDeprecationWarning: Default values for HuggingFaceEmbeddings.model_name were deprecated in LangChain 0.2.16 and will be removed in 0.4.0. Explicitly pass a model_name to the HuggingFaceEmbeddings constructor instead.\n",
      "  embeddings = HuggingFaceEmbeddings()\n",
      "c:\\Users\\tjwin\\anaconda3\\envs\\gem_learn\\lib\\site-packages\\tqdm\\auto.py:21: TqdmWarning: IProgress not found. Please update jupyter and ipywidgets. See https://ipywidgets.readthedocs.io/en/stable/user_install.html\n",
      "  from .autonotebook import tqdm as notebook_tqdm\n"
     ]
    },
    {
     "data": {
      "text/plain": [
       "[0.034922655671834946,\n",
       " 0.018830018118023872,\n",
       " -0.017854738980531693,\n",
       " 0.0001388440141454339,\n",
       " 0.0740736871957779]"
      ]
     },
     "execution_count": 5,
     "metadata": {},
     "output_type": "execute_result"
    }
   ],
   "source": [
    "from langchain_community.embeddings import HuggingFaceEmbeddings\n",
    "embeddings = HuggingFaceEmbeddings()\n",
    "\n",
    "vector = embeddings.embed_query(\"hello, world!\")\n",
    "vector[:5]"
   ]
  },
  {
   "cell_type": "code",
   "execution_count": 6,
   "metadata": {},
   "outputs": [
    {
     "name": "stderr",
     "output_type": "stream",
     "text": [
      "C:\\Users\\tjwin\\AppData\\Local\\Temp\\ipykernel_228\\1700344016.py:2: LangChainDeprecationWarning: Default values for HuggingFaceEmbeddings.model_name were deprecated in LangChain 0.2.16 and will be removed in 0.4.0. Explicitly pass a model_name to the HuggingFaceEmbeddings constructor instead.\n",
      "  vectorstore = Chroma.from_documents(documents=docs, embedding=HuggingFaceEmbeddings())\n"
     ]
    }
   ],
   "source": [
    "from langchain_chroma import Chroma\n",
    "vectorstore = Chroma.from_documents(documents=docs, embedding=HuggingFaceEmbeddings())"
   ]
  },
  {
   "cell_type": "code",
   "execution_count": 7,
   "metadata": {},
   "outputs": [],
   "source": [
    "retriever = vectorstore.as_retriever(search_type=\"similarity\", search_kwargs={\"k\": 3})\n",
    "\n",
    "retrieved_docs = retriever.invoke(\"Trump and tariff\")"
   ]
  },
  {
   "cell_type": "code",
   "execution_count": 8,
   "metadata": {},
   "outputs": [],
   "source": [
    "from langchain_huggingface import HuggingFacePipeline\n",
    "from langchain.prompts import PromptTemplate\n",
    "from transformers import pipeline\n",
    "from langchain_core.output_parsers import StrOutputParser\n",
    "import torch\n",
    "from transformers import AutoModelForCausalLM, AutoTokenizer"
   ]
  },
  {
   "cell_type": "code",
   "execution_count": 9,
   "metadata": {},
   "outputs": [
    {
     "name": "stderr",
     "output_type": "stream",
     "text": [
      "c:\\Users\\tjwin\\anaconda3\\envs\\gem_learn\\lib\\site-packages\\huggingface_hub\\file_download.py:140: UserWarning: `huggingface_hub` cache-system uses symlinks by default to efficiently store duplicated files but your machine does not support them in C:\\Users\\tjwin\\.cache\\huggingface\\hub\\models--tiiuae--falcon-7b. Caching files will still work but in a degraded version that might require more space on your disk. This warning can be disabled by setting the `HF_HUB_DISABLE_SYMLINKS_WARNING` environment variable. For more details, see https://huggingface.co/docs/huggingface_hub/how-to-cache#limitations.\n",
      "To support symlinks on Windows, you either need to activate Developer Mode or to run Python as an administrator. In order to activate developer mode, see this article: https://docs.microsoft.com/en-us/windows/apps/get-started/enable-your-device-for-development\n",
      "  warnings.warn(message)\n",
      "Downloading shards:   0%|          | 0/2 [00:00<?, ?it/s]c:\\Users\\tjwin\\anaconda3\\envs\\gem_learn\\lib\\site-packages\\huggingface_hub\\file_download.py:651: UserWarning: Not enough free disk space to download the file. The expected file size is: 9950.99 MB. The target location C:\\Users\\tjwin\\.cache\\huggingface\\hub\\models--tiiuae--falcon-7b\\blobs only has 3778.74 MB free disk space.\n",
      "  warnings.warn(\n",
      "Error while downloading from https://cdn-lfs.hf.co/repos/80/bd/80bd1e4a99ab55602d887f91215879d76ac3e1b877b8f683477be2952b8cb778/02ebbe9c76d5f574bbacc8193a21e08246905e05b8e66d21a3149fd0ead3a636?response-content-disposition=inline%3B+filename*%3DUTF-8%27%27model-00001-of-00002.safetensors%3B+filename%3D%22model-00001-of-00002.safetensors%22%3B&Expires=1739542454&Policy=eyJTdGF0ZW1lbnQiOlt7IkNvbmRpdGlvbiI6eyJEYXRlTGVzc1RoYW4iOnsiQVdTOkVwb2NoVGltZSI6MTczOTU0MjQ1NH19LCJSZXNvdXJjZSI6Imh0dHBzOi8vY2RuLWxmcy5oZi5jby9yZXBvcy84MC9iZC84MGJkMWU0YTk5YWI1NTYwMmQ4ODdmOTEyMTU4NzlkNzZhYzNlMWI4NzdiOGY2ODM0NzdiZTI5NTJiOGNiNzc4LzAyZWJiZTljNzZkNWY1NzRiYmFjYzgxOTNhMjFlMDgyNDY5MDVlMDViOGU2NmQyMWEzMTQ5ZmQwZWFkM2E2MzY%7EcmVzcG9uc2UtY29udGVudC1kaXNwb3NpdGlvbj0qIn1dfQ__&Signature=tTB7XPxsbJZSDI3o8T-Aq2ZB0GFnwpkEvNyEbMqeI51GebEeummogKE6gYyAP1deHyQ0gAo0mhpswRZVSa5W0h6IT16HbVUgv5mwhFpMbZ6UKsmEaHzQitciA2ERgLNkwvs5ptqsK6epE9HpthmVGhsvibc3-TU2zMG%7EooGQLYAVeVDYWVC8HvGG%7ENfWILC8GWIVu60Jfe-0m8E-WdnoH6MBVFYtEHg7RR65ebDk-SYwiQ8Y9dte%7ELpn3-ZegIYHbV-eFBYprfq019r9MiJ4aOTWZWmWOfbn9hFbXKQNQW6MfOwS28cXLO88YfdVoFyNYPp8%7EmfiS5D7ibtH4kwCrQ__&Key-Pair-Id=K3RPWS32NSSJCE: HTTPSConnectionPool(host='cdn-lfs.hf.co', port=443): Read timed out.\n",
      "Trying to resume download...\n",
      "Downloading shards:   0%|          | 0/2 [11:38<?, ?it/s]\n",
      "Downloading shards:   0%|          | 0/2 [00:00<?, ?it/s]\n"
     ]
    },
    {
     "ename": "ValueError",
     "evalue": "Could not load model tiiuae/falcon-7b with any of the following classes: (<class 'transformers.models.auto.modeling_auto.AutoModelForCausalLM'>, <class 'transformers.models.falcon.modeling_falcon.FalconForCausalLM'>). See the original errors:\n\nwhile loading with AutoModelForCausalLM, an error is thrown:\nTraceback (most recent call last):\n  File \"c:\\Users\\tjwin\\anaconda3\\envs\\gem_learn\\lib\\site-packages\\urllib3\\response.py\", line 754, in _error_catcher\n    yield\n  File \"c:\\Users\\tjwin\\anaconda3\\envs\\gem_learn\\lib\\site-packages\\urllib3\\response.py\", line 879, in _raw_read\n    data = self._fp_read(amt, read1=read1) if not fp_closed else b\"\"\n  File \"c:\\Users\\tjwin\\anaconda3\\envs\\gem_learn\\lib\\site-packages\\urllib3\\response.py\", line 862, in _fp_read\n    return self._fp.read(amt) if amt is not None else self._fp.read()\n  File \"c:\\Users\\tjwin\\anaconda3\\envs\\gem_learn\\lib\\http\\client.py\", line 466, in read\n    s = self.fp.read(amt)\n  File \"c:\\Users\\tjwin\\anaconda3\\envs\\gem_learn\\lib\\socket.py\", line 717, in readinto\n    return self._sock.recv_into(b)\n  File \"c:\\Users\\tjwin\\anaconda3\\envs\\gem_learn\\lib\\ssl.py\", line 1307, in recv_into\n    return self.read(nbytes, buffer)\n  File \"c:\\Users\\tjwin\\anaconda3\\envs\\gem_learn\\lib\\ssl.py\", line 1163, in read\n    return self._sslobj.read(len, buffer)\nTimeoutError: The read operation timed out\n\nThe above exception was the direct cause of the following exception:\n\nTraceback (most recent call last):\n  File \"c:\\Users\\tjwin\\anaconda3\\envs\\gem_learn\\lib\\site-packages\\requests\\models.py\", line 820, in generate\n    yield from self.raw.stream(chunk_size, decode_content=True)\n  File \"c:\\Users\\tjwin\\anaconda3\\envs\\gem_learn\\lib\\site-packages\\urllib3\\response.py\", line 1066, in stream\n    data = self.read(amt=amt, decode_content=decode_content)\n  File \"c:\\Users\\tjwin\\anaconda3\\envs\\gem_learn\\lib\\site-packages\\urllib3\\response.py\", line 955, in read\n    data = self._raw_read(amt)\n  File \"c:\\Users\\tjwin\\anaconda3\\envs\\gem_learn\\lib\\site-packages\\urllib3\\response.py\", line 878, in _raw_read\n    with self._error_catcher():\n  File \"c:\\Users\\tjwin\\anaconda3\\envs\\gem_learn\\lib\\contextlib.py\", line 153, in __exit__\n    self.gen.throw(typ, value, traceback)\n  File \"c:\\Users\\tjwin\\anaconda3\\envs\\gem_learn\\lib\\site-packages\\urllib3\\response.py\", line 759, in _error_catcher\n    raise ReadTimeoutError(self._pool, None, \"Read timed out.\") from e  # type: ignore[arg-type]\nurllib3.exceptions.ReadTimeoutError: HTTPSConnectionPool(host='cdn-lfs.hf.co', port=443): Read timed out.\n\nDuring handling of the above exception, another exception occurred:\n\nTraceback (most recent call last):\n  File \"c:\\Users\\tjwin\\anaconda3\\envs\\gem_learn\\lib\\site-packages\\huggingface_hub\\file_download.py\", line 452, in http_get\n    for chunk in r.iter_content(chunk_size=constants.DOWNLOAD_CHUNK_SIZE):\n  File \"c:\\Users\\tjwin\\anaconda3\\envs\\gem_learn\\lib\\site-packages\\requests\\models.py\", line 826, in generate\n    raise ConnectionError(e)\nrequests.exceptions.ConnectionError: HTTPSConnectionPool(host='cdn-lfs.hf.co', port=443): Read timed out.\n\nDuring handling of the above exception, another exception occurred:\n\nTraceback (most recent call last):\n  File \"c:\\Users\\tjwin\\anaconda3\\envs\\gem_learn\\lib\\site-packages\\urllib3\\connection.py\", line 198, in _new_conn\n    sock = connection.create_connection(\n  File \"c:\\Users\\tjwin\\anaconda3\\envs\\gem_learn\\lib\\site-packages\\urllib3\\util\\connection.py\", line 60, in create_connection\n    for res in socket.getaddrinfo(host, port, family, socket.SOCK_STREAM):\n  File \"c:\\Users\\tjwin\\anaconda3\\envs\\gem_learn\\lib\\socket.py\", line 967, in getaddrinfo\n    for res in _socket.getaddrinfo(host, port, family, type, proto, flags):\nsocket.gaierror: [Errno 11001] getaddrinfo failed\n\nThe above exception was the direct cause of the following exception:\n\nTraceback (most recent call last):\n  File \"c:\\Users\\tjwin\\anaconda3\\envs\\gem_learn\\lib\\site-packages\\urllib3\\connectionpool.py\", line 787, in urlopen\n    response = self._make_request(\n  File \"c:\\Users\\tjwin\\anaconda3\\envs\\gem_learn\\lib\\site-packages\\urllib3\\connectionpool.py\", line 488, in _make_request\n    raise new_e\n  File \"c:\\Users\\tjwin\\anaconda3\\envs\\gem_learn\\lib\\site-packages\\urllib3\\connectionpool.py\", line 464, in _make_request\n    self._validate_conn(conn)\n  File \"c:\\Users\\tjwin\\anaconda3\\envs\\gem_learn\\lib\\site-packages\\urllib3\\connectionpool.py\", line 1093, in _validate_conn\n    conn.connect()\n  File \"c:\\Users\\tjwin\\anaconda3\\envs\\gem_learn\\lib\\site-packages\\urllib3\\connection.py\", line 704, in connect\n    self.sock = sock = self._new_conn()\n  File \"c:\\Users\\tjwin\\anaconda3\\envs\\gem_learn\\lib\\site-packages\\urllib3\\connection.py\", line 205, in _new_conn\n    raise NameResolutionError(self.host, self, e) from e\nurllib3.exceptions.NameResolutionError: <urllib3.connection.HTTPSConnection object at 0x0000024DDB48A860>: Failed to resolve 'cdn-lfs.hf.co' ([Errno 11001] getaddrinfo failed)\n\nThe above exception was the direct cause of the following exception:\n\nTraceback (most recent call last):\n  File \"c:\\Users\\tjwin\\anaconda3\\envs\\gem_learn\\lib\\site-packages\\requests\\adapters.py\", line 667, in send\n    resp = conn.urlopen(\n  File \"c:\\Users\\tjwin\\anaconda3\\envs\\gem_learn\\lib\\site-packages\\urllib3\\connectionpool.py\", line 841, in urlopen\n    retries = retries.increment(\n  File \"c:\\Users\\tjwin\\anaconda3\\envs\\gem_learn\\lib\\site-packages\\urllib3\\util\\retry.py\", line 519, in increment\n    raise MaxRetryError(_pool, url, reason) from reason  # type: ignore[arg-type]\nurllib3.exceptions.MaxRetryError: HTTPSConnectionPool(host='cdn-lfs.hf.co', port=443): Max retries exceeded with url: /repos/80/bd/80bd1e4a99ab55602d887f91215879d76ac3e1b877b8f683477be2952b8cb778/02ebbe9c76d5f574bbacc8193a21e08246905e05b8e66d21a3149fd0ead3a636?response-content-disposition=inline%3B+filename*%3DUTF-8%27%27model-00001-of-00002.safetensors%3B+filename%3D%22model-00001-of-00002.safetensors%22%3B&Expires=1739542454&Policy=eyJTdGF0ZW1lbnQiOlt7IkNvbmRpdGlvbiI6eyJEYXRlTGVzc1RoYW4iOnsiQVdTOkVwb2NoVGltZSI6MTczOTU0MjQ1NH19LCJSZXNvdXJjZSI6Imh0dHBzOi8vY2RuLWxmcy5oZi5jby9yZXBvcy84MC9iZC84MGJkMWU0YTk5YWI1NTYwMmQ4ODdmOTEyMTU4NzlkNzZhYzNlMWI4NzdiOGY2ODM0NzdiZTI5NTJiOGNiNzc4LzAyZWJiZTljNzZkNWY1NzRiYmFjYzgxOTNhMjFlMDgyNDY5MDVlMDViOGU2NmQyMWEzMTQ5ZmQwZWFkM2E2MzY~cmVzcG9uc2UtY29udGVudC1kaXNwb3NpdGlvbj0qIn1dfQ__&Signature=tTB7XPxsbJZSDI3o8T-Aq2ZB0GFnwpkEvNyEbMqeI51GebEeummogKE6gYyAP1deHyQ0gAo0mhpswRZVSa5W0h6IT16HbVUgv5mwhFpMbZ6UKsmEaHzQitciA2ERgLNkwvs5ptqsK6epE9HpthmVGhsvibc3-TU2zMG~ooGQLYAVeVDYWVC8HvGG~NfWILC8GWIVu60Jfe-0m8E-WdnoH6MBVFYtEHg7RR65ebDk-SYwiQ8Y9dte~Lpn3-ZegIYHbV-eFBYprfq019r9MiJ4aOTWZWmWOfbn9hFbXKQNQW6MfOwS28cXLO88YfdVoFyNYPp8~mfiS5D7ibtH4kwCrQ__&Key-Pair-Id=K3RPWS32NSSJCE (Caused by NameResolutionError(\"<urllib3.connection.HTTPSConnection object at 0x0000024DDB48A860>: Failed to resolve 'cdn-lfs.hf.co' ([Errno 11001] getaddrinfo failed)\"))\n\nDuring handling of the above exception, another exception occurred:\n\nTraceback (most recent call last):\n  File \"c:\\Users\\tjwin\\anaconda3\\envs\\gem_learn\\lib\\site-packages\\transformers\\pipelines\\base.py\", line 289, in infer_framework_load_model\n    model = model_class.from_pretrained(model, **kwargs)\n  File \"c:\\Users\\tjwin\\anaconda3\\envs\\gem_learn\\lib\\site-packages\\transformers\\models\\auto\\auto_factory.py\", line 564, in from_pretrained\n    return model_class.from_pretrained(\n  File \"c:\\Users\\tjwin\\anaconda3\\envs\\gem_learn\\lib\\site-packages\\transformers\\modeling_utils.py\", line 3944, in from_pretrained\n    resolved_archive_file, sharded_metadata = get_checkpoint_shard_files(\n  File \"c:\\Users\\tjwin\\anaconda3\\envs\\gem_learn\\lib\\site-packages\\transformers\\utils\\hub.py\", line 1098, in get_checkpoint_shard_files\n    cached_filename = cached_file(\n  File \"c:\\Users\\tjwin\\anaconda3\\envs\\gem_learn\\lib\\site-packages\\transformers\\utils\\hub.py\", line 403, in cached_file\n    resolved_file = hf_hub_download(\n  File \"c:\\Users\\tjwin\\anaconda3\\envs\\gem_learn\\lib\\site-packages\\huggingface_hub\\utils\\_validators.py\", line 114, in _inner_fn\n    return fn(*args, **kwargs)\n  File \"c:\\Users\\tjwin\\anaconda3\\envs\\gem_learn\\lib\\site-packages\\huggingface_hub\\file_download.py\", line 860, in hf_hub_download\n    return _hf_hub_download_to_cache_dir(\n  File \"c:\\Users\\tjwin\\anaconda3\\envs\\gem_learn\\lib\\site-packages\\huggingface_hub\\file_download.py\", line 1009, in _hf_hub_download_to_cache_dir\n    _download_to_tmp_and_move(\n  File \"c:\\Users\\tjwin\\anaconda3\\envs\\gem_learn\\lib\\site-packages\\huggingface_hub\\file_download.py\", line 1543, in _download_to_tmp_and_move\n    http_get(\n  File \"c:\\Users\\tjwin\\anaconda3\\envs\\gem_learn\\lib\\site-packages\\huggingface_hub\\file_download.py\", line 469, in http_get\n    return http_get(\n  File \"c:\\Users\\tjwin\\anaconda3\\envs\\gem_learn\\lib\\site-packages\\huggingface_hub\\file_download.py\", line 369, in http_get\n    r = _request_wrapper(\n  File \"c:\\Users\\tjwin\\anaconda3\\envs\\gem_learn\\lib\\site-packages\\huggingface_hub\\file_download.py\", line 301, in _request_wrapper\n    response = get_session().request(method=method, url=url, **params)\n  File \"c:\\Users\\tjwin\\anaconda3\\envs\\gem_learn\\lib\\site-packages\\requests\\sessions.py\", line 589, in request\n    resp = self.send(prep, **send_kwargs)\n  File \"c:\\Users\\tjwin\\anaconda3\\envs\\gem_learn\\lib\\site-packages\\requests\\sessions.py\", line 703, in send\n    r = adapter.send(request, **kwargs)\n  File \"c:\\Users\\tjwin\\anaconda3\\envs\\gem_learn\\lib\\site-packages\\huggingface_hub\\utils\\_http.py\", line 93, in send\n    return super().send(request, *args, **kwargs)\n  File \"c:\\Users\\tjwin\\anaconda3\\envs\\gem_learn\\lib\\site-packages\\requests\\adapters.py\", line 700, in send\n    raise ConnectionError(e, request=request)\nrequests.exceptions.ConnectionError: (MaxRetryError('HTTPSConnectionPool(host=\\'cdn-lfs.hf.co\\', port=443): Max retries exceeded with url: /repos/80/bd/80bd1e4a99ab55602d887f91215879d76ac3e1b877b8f683477be2952b8cb778/02ebbe9c76d5f574bbacc8193a21e08246905e05b8e66d21a3149fd0ead3a636?response-content-disposition=inline%3B+filename*%3DUTF-8%27%27model-00001-of-00002.safetensors%3B+filename%3D%22model-00001-of-00002.safetensors%22%3B&Expires=1739542454&Policy=eyJTdGF0ZW1lbnQiOlt7IkNvbmRpdGlvbiI6eyJEYXRlTGVzc1RoYW4iOnsiQVdTOkVwb2NoVGltZSI6MTczOTU0MjQ1NH19LCJSZXNvdXJjZSI6Imh0dHBzOi8vY2RuLWxmcy5oZi5jby9yZXBvcy84MC9iZC84MGJkMWU0YTk5YWI1NTYwMmQ4ODdmOTEyMTU4NzlkNzZhYzNlMWI4NzdiOGY2ODM0NzdiZTI5NTJiOGNiNzc4LzAyZWJiZTljNzZkNWY1NzRiYmFjYzgxOTNhMjFlMDgyNDY5MDVlMDViOGU2NmQyMWEzMTQ5ZmQwZWFkM2E2MzY~cmVzcG9uc2UtY29udGVudC1kaXNwb3NpdGlvbj0qIn1dfQ__&Signature=tTB7XPxsbJZSDI3o8T-Aq2ZB0GFnwpkEvNyEbMqeI51GebEeummogKE6gYyAP1deHyQ0gAo0mhpswRZVSa5W0h6IT16HbVUgv5mwhFpMbZ6UKsmEaHzQitciA2ERgLNkwvs5ptqsK6epE9HpthmVGhsvibc3-TU2zMG~ooGQLYAVeVDYWVC8HvGG~NfWILC8GWIVu60Jfe-0m8E-WdnoH6MBVFYtEHg7RR65ebDk-SYwiQ8Y9dte~Lpn3-ZegIYHbV-eFBYprfq019r9MiJ4aOTWZWmWOfbn9hFbXKQNQW6MfOwS28cXLO88YfdVoFyNYPp8~mfiS5D7ibtH4kwCrQ__&Key-Pair-Id=K3RPWS32NSSJCE (Caused by NameResolutionError(\"<urllib3.connection.HTTPSConnection object at 0x0000024DDB48A860>: Failed to resolve \\'cdn-lfs.hf.co\\' ([Errno 11001] getaddrinfo failed)\"))'), '(Request ID: 227d0780-1646-4fe6-a915-defb4030564a)')\n\nwhile loading with FalconForCausalLM, an error is thrown:\nTraceback (most recent call last):\n  File \"c:\\Users\\tjwin\\anaconda3\\envs\\gem_learn\\lib\\site-packages\\urllib3\\connection.py\", line 198, in _new_conn\n    sock = connection.create_connection(\n  File \"c:\\Users\\tjwin\\anaconda3\\envs\\gem_learn\\lib\\site-packages\\urllib3\\util\\connection.py\", line 60, in create_connection\n    for res in socket.getaddrinfo(host, port, family, socket.SOCK_STREAM):\n  File \"c:\\Users\\tjwin\\anaconda3\\envs\\gem_learn\\lib\\socket.py\", line 967, in getaddrinfo\n    for res in _socket.getaddrinfo(host, port, family, type, proto, flags):\nsocket.gaierror: [Errno 11001] getaddrinfo failed\n\nThe above exception was the direct cause of the following exception:\n\nTraceback (most recent call last):\n  File \"c:\\Users\\tjwin\\anaconda3\\envs\\gem_learn\\lib\\site-packages\\urllib3\\connectionpool.py\", line 787, in urlopen\n    response = self._make_request(\n  File \"c:\\Users\\tjwin\\anaconda3\\envs\\gem_learn\\lib\\site-packages\\urllib3\\connectionpool.py\", line 488, in _make_request\n    raise new_e\n  File \"c:\\Users\\tjwin\\anaconda3\\envs\\gem_learn\\lib\\site-packages\\urllib3\\connectionpool.py\", line 464, in _make_request\n    self._validate_conn(conn)\n  File \"c:\\Users\\tjwin\\anaconda3\\envs\\gem_learn\\lib\\site-packages\\urllib3\\connectionpool.py\", line 1093, in _validate_conn\n    conn.connect()\n  File \"c:\\Users\\tjwin\\anaconda3\\envs\\gem_learn\\lib\\site-packages\\urllib3\\connection.py\", line 704, in connect\n    self.sock = sock = self._new_conn()\n  File \"c:\\Users\\tjwin\\anaconda3\\envs\\gem_learn\\lib\\site-packages\\urllib3\\connection.py\", line 205, in _new_conn\n    raise NameResolutionError(self.host, self, e) from e\nurllib3.exceptions.NameResolutionError: <urllib3.connection.HTTPSConnection object at 0x0000024DDB48B910>: Failed to resolve 'huggingface.co' ([Errno 11001] getaddrinfo failed)\n\nThe above exception was the direct cause of the following exception:\n\nTraceback (most recent call last):\n  File \"c:\\Users\\tjwin\\anaconda3\\envs\\gem_learn\\lib\\site-packages\\requests\\adapters.py\", line 667, in send\n    resp = conn.urlopen(\n  File \"c:\\Users\\tjwin\\anaconda3\\envs\\gem_learn\\lib\\site-packages\\urllib3\\connectionpool.py\", line 841, in urlopen\n    retries = retries.increment(\n  File \"c:\\Users\\tjwin\\anaconda3\\envs\\gem_learn\\lib\\site-packages\\urllib3\\util\\retry.py\", line 519, in increment\n    raise MaxRetryError(_pool, url, reason) from reason  # type: ignore[arg-type]\nurllib3.exceptions.MaxRetryError: HTTPSConnectionPool(host='huggingface.co', port=443): Max retries exceeded with url: /tiiuae/falcon-7b/resolve/main/model-00001-of-00002.safetensors (Caused by NameResolutionError(\"<urllib3.connection.HTTPSConnection object at 0x0000024DDB48B910>: Failed to resolve 'huggingface.co' ([Errno 11001] getaddrinfo failed)\"))\n\nDuring handling of the above exception, another exception occurred:\n\nTraceback (most recent call last):\n  File \"c:\\Users\\tjwin\\anaconda3\\envs\\gem_learn\\lib\\site-packages\\huggingface_hub\\file_download.py\", line 1374, in _get_metadata_or_catch_error\n    metadata = get_hf_file_metadata(\n  File \"c:\\Users\\tjwin\\anaconda3\\envs\\gem_learn\\lib\\site-packages\\huggingface_hub\\utils\\_validators.py\", line 114, in _inner_fn\n    return fn(*args, **kwargs)\n  File \"c:\\Users\\tjwin\\anaconda3\\envs\\gem_learn\\lib\\site-packages\\huggingface_hub\\file_download.py\", line 1294, in get_hf_file_metadata\n    r = _request_wrapper(\n  File \"c:\\Users\\tjwin\\anaconda3\\envs\\gem_learn\\lib\\site-packages\\huggingface_hub\\file_download.py\", line 278, in _request_wrapper\n    response = _request_wrapper(\n  File \"c:\\Users\\tjwin\\anaconda3\\envs\\gem_learn\\lib\\site-packages\\huggingface_hub\\file_download.py\", line 301, in _request_wrapper\n    response = get_session().request(method=method, url=url, **params)\n  File \"c:\\Users\\tjwin\\anaconda3\\envs\\gem_learn\\lib\\site-packages\\requests\\sessions.py\", line 589, in request\n    resp = self.send(prep, **send_kwargs)\n  File \"c:\\Users\\tjwin\\anaconda3\\envs\\gem_learn\\lib\\site-packages\\requests\\sessions.py\", line 703, in send\n    r = adapter.send(request, **kwargs)\n  File \"c:\\Users\\tjwin\\anaconda3\\envs\\gem_learn\\lib\\site-packages\\huggingface_hub\\utils\\_http.py\", line 93, in send\n    return super().send(request, *args, **kwargs)\n  File \"c:\\Users\\tjwin\\anaconda3\\envs\\gem_learn\\lib\\site-packages\\requests\\adapters.py\", line 700, in send\n    raise ConnectionError(e, request=request)\nrequests.exceptions.ConnectionError: (MaxRetryError('HTTPSConnectionPool(host=\\'huggingface.co\\', port=443): Max retries exceeded with url: /tiiuae/falcon-7b/resolve/main/model-00001-of-00002.safetensors (Caused by NameResolutionError(\"<urllib3.connection.HTTPSConnection object at 0x0000024DDB48B910>: Failed to resolve \\'huggingface.co\\' ([Errno 11001] getaddrinfo failed)\"))'), '(Request ID: 51f95282-3427-4819-87bc-f9028e6289fa)')\n\nThe above exception was the direct cause of the following exception:\n\nTraceback (most recent call last):\n  File \"c:\\Users\\tjwin\\anaconda3\\envs\\gem_learn\\lib\\site-packages\\transformers\\utils\\hub.py\", line 403, in cached_file\n    resolved_file = hf_hub_download(\n  File \"c:\\Users\\tjwin\\anaconda3\\envs\\gem_learn\\lib\\site-packages\\huggingface_hub\\utils\\_validators.py\", line 114, in _inner_fn\n    return fn(*args, **kwargs)\n  File \"c:\\Users\\tjwin\\anaconda3\\envs\\gem_learn\\lib\\site-packages\\huggingface_hub\\file_download.py\", line 860, in hf_hub_download\n    return _hf_hub_download_to_cache_dir(\n  File \"c:\\Users\\tjwin\\anaconda3\\envs\\gem_learn\\lib\\site-packages\\huggingface_hub\\file_download.py\", line 967, in _hf_hub_download_to_cache_dir\n    _raise_on_head_call_error(head_call_error, force_download, local_files_only)\n  File \"c:\\Users\\tjwin\\anaconda3\\envs\\gem_learn\\lib\\site-packages\\huggingface_hub\\file_download.py\", line 1485, in _raise_on_head_call_error\n    raise LocalEntryNotFoundError(\nhuggingface_hub.errors.LocalEntryNotFoundError: An error happened while trying to locate the file on the Hub and we cannot find the requested files in the local cache. Please check your connection and try again or make sure your Internet connection is on.\n\nThe above exception was the direct cause of the following exception:\n\nTraceback (most recent call last):\n  File \"c:\\Users\\tjwin\\anaconda3\\envs\\gem_learn\\lib\\site-packages\\transformers\\pipelines\\base.py\", line 289, in infer_framework_load_model\n    model = model_class.from_pretrained(model, **kwargs)\n  File \"c:\\Users\\tjwin\\anaconda3\\envs\\gem_learn\\lib\\site-packages\\transformers\\modeling_utils.py\", line 3944, in from_pretrained\n    resolved_archive_file, sharded_metadata = get_checkpoint_shard_files(\n  File \"c:\\Users\\tjwin\\anaconda3\\envs\\gem_learn\\lib\\site-packages\\transformers\\utils\\hub.py\", line 1098, in get_checkpoint_shard_files\n    cached_filename = cached_file(\n  File \"c:\\Users\\tjwin\\anaconda3\\envs\\gem_learn\\lib\\site-packages\\transformers\\utils\\hub.py\", line 446, in cached_file\n    raise EnvironmentError(\nOSError: We couldn't connect to 'https://huggingface.co' to load this file, couldn't find it in the cached files and it looks like tiiuae/falcon-7b is not the path to a directory containing a file named model-00001-of-00002.safetensors.\nCheckout your internet connection or see how to run the library in offline mode at 'https://huggingface.co/docs/transformers/installation#offline-mode'.\n\n\n",
     "output_type": "error",
     "traceback": [
      "\u001b[1;31m---------------------------------------------------------------------------\u001b[0m",
      "\u001b[1;31mValueError\u001b[0m                                Traceback (most recent call last)",
      "Cell \u001b[1;32mIn[9], line 3\u001b[0m\n\u001b[0;32m      1\u001b[0m model_id \u001b[38;5;241m=\u001b[39m \u001b[38;5;124m\"\u001b[39m\u001b[38;5;124mtiiuae/falcon-7b\u001b[39m\u001b[38;5;124m\"\u001b[39m\n\u001b[1;32m----> 3\u001b[0m text_generation_pipeline \u001b[38;5;241m=\u001b[39m \u001b[43mpipeline\u001b[49m\u001b[43m(\u001b[49m\n\u001b[0;32m      4\u001b[0m \u001b[43m    \u001b[49m\u001b[38;5;124;43m\"\u001b[39;49m\u001b[38;5;124;43mtext-generation\u001b[39;49m\u001b[38;5;124;43m\"\u001b[39;49m\u001b[43m,\u001b[49m\u001b[43m \u001b[49m\u001b[43mmodel\u001b[49m\u001b[38;5;241;43m=\u001b[39;49m\u001b[43mmodel_id\u001b[49m\u001b[43m,\u001b[49m\u001b[43m \u001b[49m\u001b[43mmodel_kwargs\u001b[49m\u001b[38;5;241;43m=\u001b[39;49m\u001b[43m{\u001b[49m\u001b[38;5;124;43m\"\u001b[39;49m\u001b[38;5;124;43mtorch_dtype\u001b[39;49m\u001b[38;5;124;43m\"\u001b[39;49m\u001b[43m:\u001b[49m\u001b[43m \u001b[49m\u001b[43mtorch\u001b[49m\u001b[38;5;241;43m.\u001b[39;49m\u001b[43mbfloat16\u001b[49m\u001b[43m}\u001b[49m\u001b[43m,\u001b[49m\u001b[43m \u001b[49m\u001b[43mmax_new_tokens\u001b[49m\u001b[38;5;241;43m=\u001b[39;49m\u001b[38;5;241;43m400\u001b[39;49m\u001b[43m,\u001b[49m\u001b[43m \u001b[49m\u001b[43mdevice\u001b[49m\u001b[38;5;241;43m=\u001b[39;49m\u001b[38;5;241;43m0\u001b[39;49m\u001b[43m)\u001b[49m\n\u001b[0;32m      6\u001b[0m llm \u001b[38;5;241m=\u001b[39m HuggingFacePipeline(pipeline\u001b[38;5;241m=\u001b[39mtext_generation_pipeline)\n\u001b[0;32m      8\u001b[0m prompt_template \u001b[38;5;241m=\u001b[39m \u001b[38;5;124m\"\"\"\u001b[39m\n\u001b[0;32m      9\u001b[0m \u001b[38;5;124m<|system|>\u001b[39m\n\u001b[0;32m     10\u001b[0m \u001b[38;5;124mAnswer the question based on your knowledge. Use the following context to help:\u001b[39m\n\u001b[1;32m   (...)\u001b[0m\n\u001b[0;32m     19\u001b[0m \n\u001b[0;32m     20\u001b[0m \u001b[38;5;124m \u001b[39m\u001b[38;5;124m\"\"\"\u001b[39m\n",
      "File \u001b[1;32mc:\\Users\\tjwin\\anaconda3\\envs\\gem_learn\\lib\\site-packages\\transformers\\pipelines\\__init__.py:940\u001b[0m, in \u001b[0;36mpipeline\u001b[1;34m(task, model, config, tokenizer, feature_extractor, image_processor, processor, framework, revision, use_fast, token, device, device_map, torch_dtype, trust_remote_code, model_kwargs, pipeline_class, **kwargs)\u001b[0m\n\u001b[0;32m    938\u001b[0m \u001b[38;5;28;01mif\u001b[39;00m \u001b[38;5;28misinstance\u001b[39m(model, \u001b[38;5;28mstr\u001b[39m) \u001b[38;5;129;01mor\u001b[39;00m framework \u001b[38;5;129;01mis\u001b[39;00m \u001b[38;5;28;01mNone\u001b[39;00m:\n\u001b[0;32m    939\u001b[0m     model_classes \u001b[38;5;241m=\u001b[39m {\u001b[38;5;124m\"\u001b[39m\u001b[38;5;124mtf\u001b[39m\u001b[38;5;124m\"\u001b[39m: targeted_task[\u001b[38;5;124m\"\u001b[39m\u001b[38;5;124mtf\u001b[39m\u001b[38;5;124m\"\u001b[39m], \u001b[38;5;124m\"\u001b[39m\u001b[38;5;124mpt\u001b[39m\u001b[38;5;124m\"\u001b[39m: targeted_task[\u001b[38;5;124m\"\u001b[39m\u001b[38;5;124mpt\u001b[39m\u001b[38;5;124m\"\u001b[39m]}\n\u001b[1;32m--> 940\u001b[0m     framework, model \u001b[38;5;241m=\u001b[39m infer_framework_load_model(\n\u001b[0;32m    941\u001b[0m         model,\n\u001b[0;32m    942\u001b[0m         model_classes\u001b[38;5;241m=\u001b[39mmodel_classes,\n\u001b[0;32m    943\u001b[0m         config\u001b[38;5;241m=\u001b[39mconfig,\n\u001b[0;32m    944\u001b[0m         framework\u001b[38;5;241m=\u001b[39mframework,\n\u001b[0;32m    945\u001b[0m         task\u001b[38;5;241m=\u001b[39mtask,\n\u001b[0;32m    946\u001b[0m         \u001b[38;5;241m*\u001b[39m\u001b[38;5;241m*\u001b[39mhub_kwargs,\n\u001b[0;32m    947\u001b[0m         \u001b[38;5;241m*\u001b[39m\u001b[38;5;241m*\u001b[39mmodel_kwargs,\n\u001b[0;32m    948\u001b[0m     )\n\u001b[0;32m    950\u001b[0m model_config \u001b[38;5;241m=\u001b[39m model\u001b[38;5;241m.\u001b[39mconfig\n\u001b[0;32m    951\u001b[0m hub_kwargs[\u001b[38;5;124m\"\u001b[39m\u001b[38;5;124m_commit_hash\u001b[39m\u001b[38;5;124m\"\u001b[39m] \u001b[38;5;241m=\u001b[39m model\u001b[38;5;241m.\u001b[39mconfig\u001b[38;5;241m.\u001b[39m_commit_hash\n",
      "File \u001b[1;32mc:\\Users\\tjwin\\anaconda3\\envs\\gem_learn\\lib\\site-packages\\transformers\\pipelines\\base.py:302\u001b[0m, in \u001b[0;36minfer_framework_load_model\u001b[1;34m(model, config, model_classes, task, framework, **model_kwargs)\u001b[0m\n\u001b[0;32m    300\u001b[0m         \u001b[38;5;28;01mfor\u001b[39;00m class_name, trace \u001b[38;5;129;01min\u001b[39;00m all_traceback\u001b[38;5;241m.\u001b[39mitems():\n\u001b[0;32m    301\u001b[0m             error \u001b[38;5;241m+\u001b[39m\u001b[38;5;241m=\u001b[39m \u001b[38;5;124mf\u001b[39m\u001b[38;5;124m\"\u001b[39m\u001b[38;5;124mwhile loading with \u001b[39m\u001b[38;5;132;01m{\u001b[39;00mclass_name\u001b[38;5;132;01m}\u001b[39;00m\u001b[38;5;124m, an error is thrown:\u001b[39m\u001b[38;5;130;01m\\n\u001b[39;00m\u001b[38;5;132;01m{\u001b[39;00mtrace\u001b[38;5;132;01m}\u001b[39;00m\u001b[38;5;130;01m\\n\u001b[39;00m\u001b[38;5;124m\"\u001b[39m\n\u001b[1;32m--> 302\u001b[0m         \u001b[38;5;28;01mraise\u001b[39;00m \u001b[38;5;167;01mValueError\u001b[39;00m(\n\u001b[0;32m    303\u001b[0m             \u001b[38;5;124mf\u001b[39m\u001b[38;5;124m\"\u001b[39m\u001b[38;5;124mCould not load model \u001b[39m\u001b[38;5;132;01m{\u001b[39;00mmodel\u001b[38;5;132;01m}\u001b[39;00m\u001b[38;5;124m with any of the following classes: \u001b[39m\u001b[38;5;132;01m{\u001b[39;00mclass_tuple\u001b[38;5;132;01m}\u001b[39;00m\u001b[38;5;124m. See the original errors:\u001b[39m\u001b[38;5;130;01m\\n\u001b[39;00m\u001b[38;5;130;01m\\n\u001b[39;00m\u001b[38;5;132;01m{\u001b[39;00merror\u001b[38;5;132;01m}\u001b[39;00m\u001b[38;5;130;01m\\n\u001b[39;00m\u001b[38;5;124m\"\u001b[39m\n\u001b[0;32m    304\u001b[0m         )\n\u001b[0;32m    306\u001b[0m \u001b[38;5;28;01mif\u001b[39;00m framework \u001b[38;5;129;01mis\u001b[39;00m \u001b[38;5;28;01mNone\u001b[39;00m:\n\u001b[0;32m    307\u001b[0m     framework \u001b[38;5;241m=\u001b[39m infer_framework(model\u001b[38;5;241m.\u001b[39m\u001b[38;5;18m__class__\u001b[39m)\n",
      "\u001b[1;31mValueError\u001b[0m: Could not load model tiiuae/falcon-7b with any of the following classes: (<class 'transformers.models.auto.modeling_auto.AutoModelForCausalLM'>, <class 'transformers.models.falcon.modeling_falcon.FalconForCausalLM'>). See the original errors:\n\nwhile loading with AutoModelForCausalLM, an error is thrown:\nTraceback (most recent call last):\n  File \"c:\\Users\\tjwin\\anaconda3\\envs\\gem_learn\\lib\\site-packages\\urllib3\\response.py\", line 754, in _error_catcher\n    yield\n  File \"c:\\Users\\tjwin\\anaconda3\\envs\\gem_learn\\lib\\site-packages\\urllib3\\response.py\", line 879, in _raw_read\n    data = self._fp_read(amt, read1=read1) if not fp_closed else b\"\"\n  File \"c:\\Users\\tjwin\\anaconda3\\envs\\gem_learn\\lib\\site-packages\\urllib3\\response.py\", line 862, in _fp_read\n    return self._fp.read(amt) if amt is not None else self._fp.read()\n  File \"c:\\Users\\tjwin\\anaconda3\\envs\\gem_learn\\lib\\http\\client.py\", line 466, in read\n    s = self.fp.read(amt)\n  File \"c:\\Users\\tjwin\\anaconda3\\envs\\gem_learn\\lib\\socket.py\", line 717, in readinto\n    return self._sock.recv_into(b)\n  File \"c:\\Users\\tjwin\\anaconda3\\envs\\gem_learn\\lib\\ssl.py\", line 1307, in recv_into\n    return self.read(nbytes, buffer)\n  File \"c:\\Users\\tjwin\\anaconda3\\envs\\gem_learn\\lib\\ssl.py\", line 1163, in read\n    return self._sslobj.read(len, buffer)\nTimeoutError: The read operation timed out\n\nThe above exception was the direct cause of the following exception:\n\nTraceback (most recent call last):\n  File \"c:\\Users\\tjwin\\anaconda3\\envs\\gem_learn\\lib\\site-packages\\requests\\models.py\", line 820, in generate\n    yield from self.raw.stream(chunk_size, decode_content=True)\n  File \"c:\\Users\\tjwin\\anaconda3\\envs\\gem_learn\\lib\\site-packages\\urllib3\\response.py\", line 1066, in stream\n    data = self.read(amt=amt, decode_content=decode_content)\n  File \"c:\\Users\\tjwin\\anaconda3\\envs\\gem_learn\\lib\\site-packages\\urllib3\\response.py\", line 955, in read\n    data = self._raw_read(amt)\n  File \"c:\\Users\\tjwin\\anaconda3\\envs\\gem_learn\\lib\\site-packages\\urllib3\\response.py\", line 878, in _raw_read\n    with self._error_catcher():\n  File \"c:\\Users\\tjwin\\anaconda3\\envs\\gem_learn\\lib\\contextlib.py\", line 153, in __exit__\n    self.gen.throw(typ, value, traceback)\n  File \"c:\\Users\\tjwin\\anaconda3\\envs\\gem_learn\\lib\\site-packages\\urllib3\\response.py\", line 759, in _error_catcher\n    raise ReadTimeoutError(self._pool, None, \"Read timed out.\") from e  # type: ignore[arg-type]\nurllib3.exceptions.ReadTimeoutError: HTTPSConnectionPool(host='cdn-lfs.hf.co', port=443): Read timed out.\n\nDuring handling of the above exception, another exception occurred:\n\nTraceback (most recent call last):\n  File \"c:\\Users\\tjwin\\anaconda3\\envs\\gem_learn\\lib\\site-packages\\huggingface_hub\\file_download.py\", line 452, in http_get\n    for chunk in r.iter_content(chunk_size=constants.DOWNLOAD_CHUNK_SIZE):\n  File \"c:\\Users\\tjwin\\anaconda3\\envs\\gem_learn\\lib\\site-packages\\requests\\models.py\", line 826, in generate\n    raise ConnectionError(e)\nrequests.exceptions.ConnectionError: HTTPSConnectionPool(host='cdn-lfs.hf.co', port=443): Read timed out.\n\nDuring handling of the above exception, another exception occurred:\n\nTraceback (most recent call last):\n  File \"c:\\Users\\tjwin\\anaconda3\\envs\\gem_learn\\lib\\site-packages\\urllib3\\connection.py\", line 198, in _new_conn\n    sock = connection.create_connection(\n  File \"c:\\Users\\tjwin\\anaconda3\\envs\\gem_learn\\lib\\site-packages\\urllib3\\util\\connection.py\", line 60, in create_connection\n    for res in socket.getaddrinfo(host, port, family, socket.SOCK_STREAM):\n  File \"c:\\Users\\tjwin\\anaconda3\\envs\\gem_learn\\lib\\socket.py\", line 967, in getaddrinfo\n    for res in _socket.getaddrinfo(host, port, family, type, proto, flags):\nsocket.gaierror: [Errno 11001] getaddrinfo failed\n\nThe above exception was the direct cause of the following exception:\n\nTraceback (most recent call last):\n  File \"c:\\Users\\tjwin\\anaconda3\\envs\\gem_learn\\lib\\site-packages\\urllib3\\connectionpool.py\", line 787, in urlopen\n    response = self._make_request(\n  File \"c:\\Users\\tjwin\\anaconda3\\envs\\gem_learn\\lib\\site-packages\\urllib3\\connectionpool.py\", line 488, in _make_request\n    raise new_e\n  File \"c:\\Users\\tjwin\\anaconda3\\envs\\gem_learn\\lib\\site-packages\\urllib3\\connectionpool.py\", line 464, in _make_request\n    self._validate_conn(conn)\n  File \"c:\\Users\\tjwin\\anaconda3\\envs\\gem_learn\\lib\\site-packages\\urllib3\\connectionpool.py\", line 1093, in _validate_conn\n    conn.connect()\n  File \"c:\\Users\\tjwin\\anaconda3\\envs\\gem_learn\\lib\\site-packages\\urllib3\\connection.py\", line 704, in connect\n    self.sock = sock = self._new_conn()\n  File \"c:\\Users\\tjwin\\anaconda3\\envs\\gem_learn\\lib\\site-packages\\urllib3\\connection.py\", line 205, in _new_conn\n    raise NameResolutionError(self.host, self, e) from e\nurllib3.exceptions.NameResolutionError: <urllib3.connection.HTTPSConnection object at 0x0000024DDB48A860>: Failed to resolve 'cdn-lfs.hf.co' ([Errno 11001] getaddrinfo failed)\n\nThe above exception was the direct cause of the following exception:\n\nTraceback (most recent call last):\n  File \"c:\\Users\\tjwin\\anaconda3\\envs\\gem_learn\\lib\\site-packages\\requests\\adapters.py\", line 667, in send\n    resp = conn.urlopen(\n  File \"c:\\Users\\tjwin\\anaconda3\\envs\\gem_learn\\lib\\site-packages\\urllib3\\connectionpool.py\", line 841, in urlopen\n    retries = retries.increment(\n  File \"c:\\Users\\tjwin\\anaconda3\\envs\\gem_learn\\lib\\site-packages\\urllib3\\util\\retry.py\", line 519, in increment\n    raise MaxRetryError(_pool, url, reason) from reason  # type: ignore[arg-type]\nurllib3.exceptions.MaxRetryError: HTTPSConnectionPool(host='cdn-lfs.hf.co', port=443): Max retries exceeded with url: /repos/80/bd/80bd1e4a99ab55602d887f91215879d76ac3e1b877b8f683477be2952b8cb778/02ebbe9c76d5f574bbacc8193a21e08246905e05b8e66d21a3149fd0ead3a636?response-content-disposition=inline%3B+filename*%3DUTF-8%27%27model-00001-of-00002.safetensors%3B+filename%3D%22model-00001-of-00002.safetensors%22%3B&Expires=1739542454&Policy=eyJTdGF0ZW1lbnQiOlt7IkNvbmRpdGlvbiI6eyJEYXRlTGVzc1RoYW4iOnsiQVdTOkVwb2NoVGltZSI6MTczOTU0MjQ1NH19LCJSZXNvdXJjZSI6Imh0dHBzOi8vY2RuLWxmcy5oZi5jby9yZXBvcy84MC9iZC84MGJkMWU0YTk5YWI1NTYwMmQ4ODdmOTEyMTU4NzlkNzZhYzNlMWI4NzdiOGY2ODM0NzdiZTI5NTJiOGNiNzc4LzAyZWJiZTljNzZkNWY1NzRiYmFjYzgxOTNhMjFlMDgyNDY5MDVlMDViOGU2NmQyMWEzMTQ5ZmQwZWFkM2E2MzY~cmVzcG9uc2UtY29udGVudC1kaXNwb3NpdGlvbj0qIn1dfQ__&Signature=tTB7XPxsbJZSDI3o8T-Aq2ZB0GFnwpkEvNyEbMqeI51GebEeummogKE6gYyAP1deHyQ0gAo0mhpswRZVSa5W0h6IT16HbVUgv5mwhFpMbZ6UKsmEaHzQitciA2ERgLNkwvs5ptqsK6epE9HpthmVGhsvibc3-TU2zMG~ooGQLYAVeVDYWVC8HvGG~NfWILC8GWIVu60Jfe-0m8E-WdnoH6MBVFYtEHg7RR65ebDk-SYwiQ8Y9dte~Lpn3-ZegIYHbV-eFBYprfq019r9MiJ4aOTWZWmWOfbn9hFbXKQNQW6MfOwS28cXLO88YfdVoFyNYPp8~mfiS5D7ibtH4kwCrQ__&Key-Pair-Id=K3RPWS32NSSJCE (Caused by NameResolutionError(\"<urllib3.connection.HTTPSConnection object at 0x0000024DDB48A860>: Failed to resolve 'cdn-lfs.hf.co' ([Errno 11001] getaddrinfo failed)\"))\n\nDuring handling of the above exception, another exception occurred:\n\nTraceback (most recent call last):\n  File \"c:\\Users\\tjwin\\anaconda3\\envs\\gem_learn\\lib\\site-packages\\transformers\\pipelines\\base.py\", line 289, in infer_framework_load_model\n    model = model_class.from_pretrained(model, **kwargs)\n  File \"c:\\Users\\tjwin\\anaconda3\\envs\\gem_learn\\lib\\site-packages\\transformers\\models\\auto\\auto_factory.py\", line 564, in from_pretrained\n    return model_class.from_pretrained(\n  File \"c:\\Users\\tjwin\\anaconda3\\envs\\gem_learn\\lib\\site-packages\\transformers\\modeling_utils.py\", line 3944, in from_pretrained\n    resolved_archive_file, sharded_metadata = get_checkpoint_shard_files(\n  File \"c:\\Users\\tjwin\\anaconda3\\envs\\gem_learn\\lib\\site-packages\\transformers\\utils\\hub.py\", line 1098, in get_checkpoint_shard_files\n    cached_filename = cached_file(\n  File \"c:\\Users\\tjwin\\anaconda3\\envs\\gem_learn\\lib\\site-packages\\transformers\\utils\\hub.py\", line 403, in cached_file\n    resolved_file = hf_hub_download(\n  File \"c:\\Users\\tjwin\\anaconda3\\envs\\gem_learn\\lib\\site-packages\\huggingface_hub\\utils\\_validators.py\", line 114, in _inner_fn\n    return fn(*args, **kwargs)\n  File \"c:\\Users\\tjwin\\anaconda3\\envs\\gem_learn\\lib\\site-packages\\huggingface_hub\\file_download.py\", line 860, in hf_hub_download\n    return _hf_hub_download_to_cache_dir(\n  File \"c:\\Users\\tjwin\\anaconda3\\envs\\gem_learn\\lib\\site-packages\\huggingface_hub\\file_download.py\", line 1009, in _hf_hub_download_to_cache_dir\n    _download_to_tmp_and_move(\n  File \"c:\\Users\\tjwin\\anaconda3\\envs\\gem_learn\\lib\\site-packages\\huggingface_hub\\file_download.py\", line 1543, in _download_to_tmp_and_move\n    http_get(\n  File \"c:\\Users\\tjwin\\anaconda3\\envs\\gem_learn\\lib\\site-packages\\huggingface_hub\\file_download.py\", line 469, in http_get\n    return http_get(\n  File \"c:\\Users\\tjwin\\anaconda3\\envs\\gem_learn\\lib\\site-packages\\huggingface_hub\\file_download.py\", line 369, in http_get\n    r = _request_wrapper(\n  File \"c:\\Users\\tjwin\\anaconda3\\envs\\gem_learn\\lib\\site-packages\\huggingface_hub\\file_download.py\", line 301, in _request_wrapper\n    response = get_session().request(method=method, url=url, **params)\n  File \"c:\\Users\\tjwin\\anaconda3\\envs\\gem_learn\\lib\\site-packages\\requests\\sessions.py\", line 589, in request\n    resp = self.send(prep, **send_kwargs)\n  File \"c:\\Users\\tjwin\\anaconda3\\envs\\gem_learn\\lib\\site-packages\\requests\\sessions.py\", line 703, in send\n    r = adapter.send(request, **kwargs)\n  File \"c:\\Users\\tjwin\\anaconda3\\envs\\gem_learn\\lib\\site-packages\\huggingface_hub\\utils\\_http.py\", line 93, in send\n    return super().send(request, *args, **kwargs)\n  File \"c:\\Users\\tjwin\\anaconda3\\envs\\gem_learn\\lib\\site-packages\\requests\\adapters.py\", line 700, in send\n    raise ConnectionError(e, request=request)\nrequests.exceptions.ConnectionError: (MaxRetryError('HTTPSConnectionPool(host=\\'cdn-lfs.hf.co\\', port=443): Max retries exceeded with url: /repos/80/bd/80bd1e4a99ab55602d887f91215879d76ac3e1b877b8f683477be2952b8cb778/02ebbe9c76d5f574bbacc8193a21e08246905e05b8e66d21a3149fd0ead3a636?response-content-disposition=inline%3B+filename*%3DUTF-8%27%27model-00001-of-00002.safetensors%3B+filename%3D%22model-00001-of-00002.safetensors%22%3B&Expires=1739542454&Policy=eyJTdGF0ZW1lbnQiOlt7IkNvbmRpdGlvbiI6eyJEYXRlTGVzc1RoYW4iOnsiQVdTOkVwb2NoVGltZSI6MTczOTU0MjQ1NH19LCJSZXNvdXJjZSI6Imh0dHBzOi8vY2RuLWxmcy5oZi5jby9yZXBvcy84MC9iZC84MGJkMWU0YTk5YWI1NTYwMmQ4ODdmOTEyMTU4NzlkNzZhYzNlMWI4NzdiOGY2ODM0NzdiZTI5NTJiOGNiNzc4LzAyZWJiZTljNzZkNWY1NzRiYmFjYzgxOTNhMjFlMDgyNDY5MDVlMDViOGU2NmQyMWEzMTQ5ZmQwZWFkM2E2MzY~cmVzcG9uc2UtY29udGVudC1kaXNwb3NpdGlvbj0qIn1dfQ__&Signature=tTB7XPxsbJZSDI3o8T-Aq2ZB0GFnwpkEvNyEbMqeI51GebEeummogKE6gYyAP1deHyQ0gAo0mhpswRZVSa5W0h6IT16HbVUgv5mwhFpMbZ6UKsmEaHzQitciA2ERgLNkwvs5ptqsK6epE9HpthmVGhsvibc3-TU2zMG~ooGQLYAVeVDYWVC8HvGG~NfWILC8GWIVu60Jfe-0m8E-WdnoH6MBVFYtEHg7RR65ebDk-SYwiQ8Y9dte~Lpn3-ZegIYHbV-eFBYprfq019r9MiJ4aOTWZWmWOfbn9hFbXKQNQW6MfOwS28cXLO88YfdVoFyNYPp8~mfiS5D7ibtH4kwCrQ__&Key-Pair-Id=K3RPWS32NSSJCE (Caused by NameResolutionError(\"<urllib3.connection.HTTPSConnection object at 0x0000024DDB48A860>: Failed to resolve \\'cdn-lfs.hf.co\\' ([Errno 11001] getaddrinfo failed)\"))'), '(Request ID: 227d0780-1646-4fe6-a915-defb4030564a)')\n\nwhile loading with FalconForCausalLM, an error is thrown:\nTraceback (most recent call last):\n  File \"c:\\Users\\tjwin\\anaconda3\\envs\\gem_learn\\lib\\site-packages\\urllib3\\connection.py\", line 198, in _new_conn\n    sock = connection.create_connection(\n  File \"c:\\Users\\tjwin\\anaconda3\\envs\\gem_learn\\lib\\site-packages\\urllib3\\util\\connection.py\", line 60, in create_connection\n    for res in socket.getaddrinfo(host, port, family, socket.SOCK_STREAM):\n  File \"c:\\Users\\tjwin\\anaconda3\\envs\\gem_learn\\lib\\socket.py\", line 967, in getaddrinfo\n    for res in _socket.getaddrinfo(host, port, family, type, proto, flags):\nsocket.gaierror: [Errno 11001] getaddrinfo failed\n\nThe above exception was the direct cause of the following exception:\n\nTraceback (most recent call last):\n  File \"c:\\Users\\tjwin\\anaconda3\\envs\\gem_learn\\lib\\site-packages\\urllib3\\connectionpool.py\", line 787, in urlopen\n    response = self._make_request(\n  File \"c:\\Users\\tjwin\\anaconda3\\envs\\gem_learn\\lib\\site-packages\\urllib3\\connectionpool.py\", line 488, in _make_request\n    raise new_e\n  File \"c:\\Users\\tjwin\\anaconda3\\envs\\gem_learn\\lib\\site-packages\\urllib3\\connectionpool.py\", line 464, in _make_request\n    self._validate_conn(conn)\n  File \"c:\\Users\\tjwin\\anaconda3\\envs\\gem_learn\\lib\\site-packages\\urllib3\\connectionpool.py\", line 1093, in _validate_conn\n    conn.connect()\n  File \"c:\\Users\\tjwin\\anaconda3\\envs\\gem_learn\\lib\\site-packages\\urllib3\\connection.py\", line 704, in connect\n    self.sock = sock = self._new_conn()\n  File \"c:\\Users\\tjwin\\anaconda3\\envs\\gem_learn\\lib\\site-packages\\urllib3\\connection.py\", line 205, in _new_conn\n    raise NameResolutionError(self.host, self, e) from e\nurllib3.exceptions.NameResolutionError: <urllib3.connection.HTTPSConnection object at 0x0000024DDB48B910>: Failed to resolve 'huggingface.co' ([Errno 11001] getaddrinfo failed)\n\nThe above exception was the direct cause of the following exception:\n\nTraceback (most recent call last):\n  File \"c:\\Users\\tjwin\\anaconda3\\envs\\gem_learn\\lib\\site-packages\\requests\\adapters.py\", line 667, in send\n    resp = conn.urlopen(\n  File \"c:\\Users\\tjwin\\anaconda3\\envs\\gem_learn\\lib\\site-packages\\urllib3\\connectionpool.py\", line 841, in urlopen\n    retries = retries.increment(\n  File \"c:\\Users\\tjwin\\anaconda3\\envs\\gem_learn\\lib\\site-packages\\urllib3\\util\\retry.py\", line 519, in increment\n    raise MaxRetryError(_pool, url, reason) from reason  # type: ignore[arg-type]\nurllib3.exceptions.MaxRetryError: HTTPSConnectionPool(host='huggingface.co', port=443): Max retries exceeded with url: /tiiuae/falcon-7b/resolve/main/model-00001-of-00002.safetensors (Caused by NameResolutionError(\"<urllib3.connection.HTTPSConnection object at 0x0000024DDB48B910>: Failed to resolve 'huggingface.co' ([Errno 11001] getaddrinfo failed)\"))\n\nDuring handling of the above exception, another exception occurred:\n\nTraceback (most recent call last):\n  File \"c:\\Users\\tjwin\\anaconda3\\envs\\gem_learn\\lib\\site-packages\\huggingface_hub\\file_download.py\", line 1374, in _get_metadata_or_catch_error\n    metadata = get_hf_file_metadata(\n  File \"c:\\Users\\tjwin\\anaconda3\\envs\\gem_learn\\lib\\site-packages\\huggingface_hub\\utils\\_validators.py\", line 114, in _inner_fn\n    return fn(*args, **kwargs)\n  File \"c:\\Users\\tjwin\\anaconda3\\envs\\gem_learn\\lib\\site-packages\\huggingface_hub\\file_download.py\", line 1294, in get_hf_file_metadata\n    r = _request_wrapper(\n  File \"c:\\Users\\tjwin\\anaconda3\\envs\\gem_learn\\lib\\site-packages\\huggingface_hub\\file_download.py\", line 278, in _request_wrapper\n    response = _request_wrapper(\n  File \"c:\\Users\\tjwin\\anaconda3\\envs\\gem_learn\\lib\\site-packages\\huggingface_hub\\file_download.py\", line 301, in _request_wrapper\n    response = get_session().request(method=method, url=url, **params)\n  File \"c:\\Users\\tjwin\\anaconda3\\envs\\gem_learn\\lib\\site-packages\\requests\\sessions.py\", line 589, in request\n    resp = self.send(prep, **send_kwargs)\n  File \"c:\\Users\\tjwin\\anaconda3\\envs\\gem_learn\\lib\\site-packages\\requests\\sessions.py\", line 703, in send\n    r = adapter.send(request, **kwargs)\n  File \"c:\\Users\\tjwin\\anaconda3\\envs\\gem_learn\\lib\\site-packages\\huggingface_hub\\utils\\_http.py\", line 93, in send\n    return super().send(request, *args, **kwargs)\n  File \"c:\\Users\\tjwin\\anaconda3\\envs\\gem_learn\\lib\\site-packages\\requests\\adapters.py\", line 700, in send\n    raise ConnectionError(e, request=request)\nrequests.exceptions.ConnectionError: (MaxRetryError('HTTPSConnectionPool(host=\\'huggingface.co\\', port=443): Max retries exceeded with url: /tiiuae/falcon-7b/resolve/main/model-00001-of-00002.safetensors (Caused by NameResolutionError(\"<urllib3.connection.HTTPSConnection object at 0x0000024DDB48B910>: Failed to resolve \\'huggingface.co\\' ([Errno 11001] getaddrinfo failed)\"))'), '(Request ID: 51f95282-3427-4819-87bc-f9028e6289fa)')\n\nThe above exception was the direct cause of the following exception:\n\nTraceback (most recent call last):\n  File \"c:\\Users\\tjwin\\anaconda3\\envs\\gem_learn\\lib\\site-packages\\transformers\\utils\\hub.py\", line 403, in cached_file\n    resolved_file = hf_hub_download(\n  File \"c:\\Users\\tjwin\\anaconda3\\envs\\gem_learn\\lib\\site-packages\\huggingface_hub\\utils\\_validators.py\", line 114, in _inner_fn\n    return fn(*args, **kwargs)\n  File \"c:\\Users\\tjwin\\anaconda3\\envs\\gem_learn\\lib\\site-packages\\huggingface_hub\\file_download.py\", line 860, in hf_hub_download\n    return _hf_hub_download_to_cache_dir(\n  File \"c:\\Users\\tjwin\\anaconda3\\envs\\gem_learn\\lib\\site-packages\\huggingface_hub\\file_download.py\", line 967, in _hf_hub_download_to_cache_dir\n    _raise_on_head_call_error(head_call_error, force_download, local_files_only)\n  File \"c:\\Users\\tjwin\\anaconda3\\envs\\gem_learn\\lib\\site-packages\\huggingface_hub\\file_download.py\", line 1485, in _raise_on_head_call_error\n    raise LocalEntryNotFoundError(\nhuggingface_hub.errors.LocalEntryNotFoundError: An error happened while trying to locate the file on the Hub and we cannot find the requested files in the local cache. Please check your connection and try again or make sure your Internet connection is on.\n\nThe above exception was the direct cause of the following exception:\n\nTraceback (most recent call last):\n  File \"c:\\Users\\tjwin\\anaconda3\\envs\\gem_learn\\lib\\site-packages\\transformers\\pipelines\\base.py\", line 289, in infer_framework_load_model\n    model = model_class.from_pretrained(model, **kwargs)\n  File \"c:\\Users\\tjwin\\anaconda3\\envs\\gem_learn\\lib\\site-packages\\transformers\\modeling_utils.py\", line 3944, in from_pretrained\n    resolved_archive_file, sharded_metadata = get_checkpoint_shard_files(\n  File \"c:\\Users\\tjwin\\anaconda3\\envs\\gem_learn\\lib\\site-packages\\transformers\\utils\\hub.py\", line 1098, in get_checkpoint_shard_files\n    cached_filename = cached_file(\n  File \"c:\\Users\\tjwin\\anaconda3\\envs\\gem_learn\\lib\\site-packages\\transformers\\utils\\hub.py\", line 446, in cached_file\n    raise EnvironmentError(\nOSError: We couldn't connect to 'https://huggingface.co' to load this file, couldn't find it in the cached files and it looks like tiiuae/falcon-7b is not the path to a directory containing a file named model-00001-of-00002.safetensors.\nCheckout your internet connection or see how to run the library in offline mode at 'https://huggingface.co/docs/transformers/installation#offline-mode'.\n\n\n"
     ]
    }
   ],
   "source": [
    "model_id = \"tiiuae/falcon-7b\"\n",
    "\n",
    "text_generation_pipeline = pipeline(\n",
    "    \"text-generation\", model=model_id, model_kwargs={\"torch_dtype\": torch.bfloat16}, max_new_tokens=400, device=0)\n",
    "\n",
    "llm = HuggingFacePipeline(pipeline=text_generation_pipeline)\n",
    "\n",
    "prompt_template = \"\"\"\n",
    "<|system|>\n",
    "Answer the question based on your knowledge. Use the following context to help:\n",
    "\n",
    "{context}\n",
    "\n",
    "</s>\n",
    "<|user|>\n",
    "{question}\n",
    "</s>\n",
    "<|assistant|>\n",
    "\n",
    " \"\"\"\n",
    "\n",
    "prompt = PromptTemplate(\n",
    "    input_variables=[\"context\", \"question\"],\n",
    "    template=prompt_template,\n",
    ")\n",
    "\n",
    "llm_chain = prompt | llm | StrOutputParser()"
   ]
  },
  {
   "cell_type": "code",
   "execution_count": null,
   "metadata": {},
   "outputs": [],
   "source": [
    "from langchain_core.runnables import RunnablePassthrough\n",
    "\n",
    "rag_chain = {\"context\": retriever, \"question\": RunnablePassthrough()} | llm_chain\n"
   ]
  },
  {
   "cell_type": "code",
   "execution_count": null,
   "metadata": {},
   "outputs": [],
   "source": [
    "rag_chain.invoke(\"what is trumps tariff plan\")"
   ]
  },
  {
   "cell_type": "code",
   "execution_count": null,
   "metadata": {},
   "outputs": [],
   "source": [
    "question = \"2024 Budget Highlights\"\n",
    "response = rag_chain.invoke(question)\n",
    "\n",
    "# Making the response readable\n",
    "response = response.replace(\"</s>\", \"\").strip()\n",
    "print(\"Response:\", response)"
   ]
  },
  {
   "cell_type": "code",
   "execution_count": null,
   "metadata": {},
   "outputs": [],
   "source": []
  }
 ],
 "metadata": {
  "kernelspec": {
   "display_name": "gem_learn",
   "language": "python",
   "name": "python3"
  },
  "language_info": {
   "codemirror_mode": {
    "name": "ipython",
    "version": 3
   },
   "file_extension": ".py",
   "mimetype": "text/x-python",
   "name": "python",
   "nbconvert_exporter": "python",
   "pygments_lexer": "ipython3",
   "version": "3.10.16"
  }
 },
 "nbformat": 4,
 "nbformat_minor": 2
}
