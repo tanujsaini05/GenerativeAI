{
 "cells": [
  {
   "cell_type": "code",
   "execution_count": 1,
   "metadata": {},
   "outputs": [
    {
     "name": "stderr",
     "output_type": "stream",
     "text": [
      "c:\\Users\\tjwin\\anaconda3\\envs\\gem_learn\\lib\\site-packages\\tqdm\\auto.py:21: TqdmWarning: IProgress not found. Please update jupyter and ipywidgets. See https://ipywidgets.readthedocs.io/en/stable/user_install.html\n",
      "  from .autonotebook import tqdm as notebook_tqdm\n"
     ]
    }
   ],
   "source": [
    "from key import gooogle_api_key,serp_api_key\n",
    "from langchain.agents import initialize_agent,Tool\n",
    "from langchain_google_genai import ChatGoogleGenerativeAI\n",
    "from langchain_community.tools.ddg_search.tool import DuckDuckGoSearchRun"
   ]
  },
  {
   "cell_type": "code",
   "execution_count": 12,
   "metadata": {},
   "outputs": [],
   "source": [
    "llm = ChatGoogleGenerativeAI(\n",
    "    google_api_key = gooogle_api_key,\n",
    "    model = \"gemini-1.5-flash\",\n",
    "    temperature=0.5,\n",
    "    max_tokens = 500,\n",
    "    \n",
    ")"
   ]
  },
  {
   "cell_type": "code",
   "execution_count": 3,
   "metadata": {},
   "outputs": [],
   "source": [
    "search_tool = Tool(\n",
    "    name = \"DuckDuckGo Search\",\n",
    "    func = DuckDuckGoSearchRun().run,\n",
    "    description = \" use this tool to performe web searches using  DuckDuckGo.\"\n",
    ")\n"
   ]
  },
  {
   "cell_type": "code",
   "execution_count": 10,
   "metadata": {},
   "outputs": [
    {
     "name": "stdout",
     "output_type": "stream",
     "text": [
      "\n",
      "\n",
      "\u001b[1m> Entering new AgentExecutor chain...\u001b[0m\n",
      "\u001b[32;1m\u001b[1;3mThought: This question is subjective and there's no single \"best\" sex position.  A web search might provide information on various positions and their potential benefits, but ultimately the best position is a matter of personal preference and what works best for the individuals involved.  I will use DuckDuckGo to gather some information on common sex positions, but I will emphasize that the results are not definitive in determining a \"best\" position.\n",
      "\n",
      "Action: DuckDuckGo Search\n",
      "Action Input: \"common sex positions and their benefits\"\u001b[0m\n",
      "Observation: \u001b[36;1m\u001b[1;3mImage Credit: Ashley Britton/SheKnows Butt-lovers rejoice! The Pushing Tush, sometimes known as rear-entry missionary, is a sex position that makes the back door the star of the show. Great for: Couples who want to take their time - sexual positions like this one are best enjoyed nice and slow. 6. Passionate Plank. For a classic twist, one partner lies on their back while the other is on top, supporting themselves with their hands or forearms. It's versatile, with room for playful experimentation or gentle intimacy - and ... There's a common myth that the more postures and poses you do, the better the sex, \"but you can totally just stick to one position that works, and it can be amazing and pleasurable,\" Dr ... As parents, sexual intimacy can be a challenge. Sometimes we're completely exhausted, and other times all the kids are home and in your business, or you're not feeling up to it.. No matter what challenge you and your partner are facing in the bedroom, changing things up with new sex positions for couples could help jump-start your sex life once again. Bring on the serotonin. Here are 14 friction-fueled sex positions to try when you're in those lovey-dovey feels. The Position: The Lotus . What it is: While one partner is seated, the other should sit on top of them with their legs wrapped around their torso.Deep kisses, cuddles and penetration (either with a penis, strap-on, or double-sided dildo) are all options here.\u001b[0m\n",
      "Thought:"
     ]
    },
    {
     "name": "stderr",
     "output_type": "stream",
     "text": [
      "Retrying langchain_google_genai.chat_models._chat_with_retry.<locals>._chat_with_retry in 2.0 seconds as it raised ResourceExhausted: 429 Resource has been exhausted (e.g. check quota)..\n"
     ]
    },
    {
     "name": "stdout",
     "output_type": "stream",
     "text": [
      "\u001b[32;1m\u001b[1;3mThought:The observation from DuckDuckGo provides a list of sex positions and some of their purported benefits, but it doesn't identify a single \"best\" position.  This confirms my initial thought that the question is subjective.\n",
      "\n",
      "Thought:I now know the final answer.\n",
      "\n",
      "Final Answer:There is no single \"best\" sex position.  The ideal position depends on individual preferences and what is most enjoyable for the people involved.  Many different positions exist, each offering unique benefits and experiences.\u001b[0m\n",
      "\n",
      "\u001b[1m> Finished chain.\u001b[0m\n"
     ]
    }
   ],
   "source": [
    "agent = initialize_agent(tools=[search_tool],llm=llm, agent=\"zero-shot-react-description\",verbose =True)\n",
    "response = agent.run(\"which sex position is best?\")"
   ]
  },
  {
   "cell_type": "code",
   "execution_count": 11,
   "metadata": {},
   "outputs": [
    {
     "name": "stdout",
     "output_type": "stream",
     "text": [
      "There is no single \"best\" sex position.  The ideal position depends on individual preferences and what is most enjoyable for the people involved.  Many different positions exist, each offering unique benefits and experiences.\n"
     ]
    }
   ],
   "source": [
    "print(response)"
   ]
  },
  {
   "cell_type": "code",
   "execution_count": null,
   "metadata": {},
   "outputs": [],
   "source": []
  }
 ],
 "metadata": {
  "kernelspec": {
   "display_name": "gem_learn",
   "language": "python",
   "name": "python3"
  },
  "language_info": {
   "codemirror_mode": {
    "name": "ipython",
    "version": 3
   },
   "file_extension": ".py",
   "mimetype": "text/x-python",
   "name": "python",
   "nbconvert_exporter": "python",
   "pygments_lexer": "ipython3",
   "version": "3.10.16"
  }
 },
 "nbformat": 4,
 "nbformat_minor": 2
}
