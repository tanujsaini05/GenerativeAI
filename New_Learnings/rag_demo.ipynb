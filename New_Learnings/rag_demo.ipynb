{
 "cells": [
  {
   "cell_type": "code",
   "execution_count": null,
   "metadata": {},
   "outputs": [],
   "source": [
    "# from langchain_community.document_loaders import UnstructuredURLLoader\n",
    "# urls = ['https://www.victoriaonmove.com.au/local-removalists.html','https://victoriaonmove.com.au/index.html','https://victoriaonmove.com.au/contact.html']\n",
    "# loader = UnstructuredURLLoader(urls=urls)\n",
    "# data = loader.load()  "
   ]
  },
  {
   "cell_type": "code",
   "execution_count": 1,
   "metadata": {},
   "outputs": [],
   "source": [
    "from langchain.document_loaders import PyPDFLoader\n",
    "\n",
    "loader = PyPDFLoader(\"C:/Users/tjwin/Downloads/Tips for Users of Assistive Technology.pdf\")\n",
    "\n",
    "data = loader.load()"
   ]
  },
  {
   "cell_type": "code",
   "execution_count": 2,
   "metadata": {},
   "outputs": [
    {
     "name": "stdout",
     "output_type": "stream",
     "text": [
      "total number of documents:  15\n"
     ]
    }
   ],
   "source": [
    "from langchain.text_splitter import RecursiveCharacterTextSplitter\n",
    "\n",
    "text_splitter = RecursiveCharacterTextSplitter(chunk_size = 1000)\n",
    "docs = text_splitter.split_documents(data)\n",
    "\n",
    "print(\"total number of documents: \",len(docs))"
   ]
  },
  {
   "cell_type": "code",
   "execution_count": 3,
   "metadata": {},
   "outputs": [
    {
     "data": {
      "text/plain": [
       "Document(metadata={'producer': 'Microsoft® Word for Microsoft 365', 'creator': 'Microsoft® Word for Microsoft 365', 'creationdate': '2021-05-12T20:59:54-04:00', 'author': 'Long Nguyen', 'moddate': '2021-05-13T10:27:47-05:00', 'title': 'Articulate Rise Accessibility Support Documentation', 'source': 'C:/Users/tjwin/Downloads/Tips for Users of Assistive Technology.pdf', 'total_pages': 4, 'page': 0, 'page_label': '1'}, page_content='Articulate Rise Accessibility Support Documentation  \\nWhat is this document? \\nOur goal is to develop the most accessible eLearning possible within the design constraints of our \\ncurriculum authoring tool, Rise360. For users of Assistive Technology, we have created the following \\nAccessibility Support Document to outline some of the behaviors you may observe when completing this \\ntraining. \\nKeyboard Navigation Resource \\n• Learners can navigate Rise 360 courses entirely with their keyboards. The Rise360 Keyboard \\nNavigation Resource article explains how. And authors don’t have to do anything to enable \\nkeyboard accessibility: The first section of this article describes the navigation keys and their \\ngeneral behavior. The second section details specifically how to use keyboard navigation in each \\nsegment of a course. And the last section explains how to enable tab-key navigation on a Mac. \\nLanding Screen')"
      ]
     },
     "execution_count": 3,
     "metadata": {},
     "output_type": "execute_result"
    }
   ],
   "source": [
    "docs[0]"
   ]
  },
  {
   "cell_type": "code",
   "execution_count": 4,
   "metadata": {},
   "outputs": [
    {
     "name": "stderr",
     "output_type": "stream",
     "text": [
      "c:\\Users\\tjwin\\anaconda3\\envs\\gem_learn\\lib\\site-packages\\tqdm\\auto.py:21: TqdmWarning: IProgress not found. Please update jupyter and ipywidgets. See https://ipywidgets.readthedocs.io/en/stable/user_install.html\n",
      "  from .autonotebook import tqdm as notebook_tqdm\n"
     ]
    }
   ],
   "source": [
    "from key import gooogle_api_key\n",
    "from langchain_google_genai import ChatGoogleGenerativeAI,GoogleGenerativeAIEmbeddings\n",
    "from langchain_chroma import Chroma"
   ]
  },
  {
   "cell_type": "code",
   "execution_count": 5,
   "metadata": {},
   "outputs": [],
   "source": [
    "embedding_model = GoogleGenerativeAIEmbeddings(model=\"models/embedding-001\",google_api_key=gooogle_api_key,timeout = 120 )"
   ]
  },
  {
   "cell_type": "code",
   "execution_count": 6,
   "metadata": {},
   "outputs": [],
   "source": [
    "# from langchain_google_genai import GoogleGenerativeAIEmbeddings\n",
    "# import numpy as np\n",
    "\n",
    "# embeddings = GoogleGenerativeAIEmbeddings(model=\"models/embedding-gecko-001\",google_api_key=gooogle_api_key) # Or your model\n",
    "\n",
    "# all_texts = data # Your list of documents/texts\n",
    "# batch_size = 10  # Experiment with different batch sizes\n",
    "\n",
    "# all_embeddings = []\n",
    "# for i in range(0, len(all_texts), batch_size):\n",
    "#     batch = all_texts[i:i + batch_size]\n",
    "#     try:\n",
    "#         batch_embeddings = embeddings.embed_documents(batch)\n",
    "#         all_embeddings.extend(batch_embeddings)\n",
    "#     except Exception as e:\n",
    "#         print(f\"Error embedding batch {i}-{i+batch_size}: {e}\")\n",
    "#         # Handle the error, e.g., retry, skip, or save the failed batch\n",
    "#         # Example: time.sleep(5) # Wait and retry\n",
    "#         # Example: continue # Skip this batch\n",
    "\n",
    "# all_embeddings = np.array(all_embeddings) # Convert to numpy array if needed"
   ]
  },
  {
   "cell_type": "code",
   "execution_count": 7,
   "metadata": {},
   "outputs": [],
   "source": [
    "vectorstore = Chroma.from_documents(documents=docs,embedding=embedding_model)"
   ]
  },
  {
   "cell_type": "code",
   "execution_count": 8,
   "metadata": {},
   "outputs": [],
   "source": [
    "retriver = vectorstore.as_retriever(search_type = \"similarity\",search_kwags = {\"k\":6})\n",
    "\n",
    "k= retriver.invoke(\"what is the title of document\")"
   ]
  },
  {
   "cell_type": "code",
   "execution_count": 9,
   "metadata": {},
   "outputs": [
    {
     "name": "stdout",
     "output_type": "stream",
     "text": [
      "• The interactive markers might not have a meaningful name. The alternative text of the \n",
      "background image before the interactive markers will provide learners with context of the \n",
      "interaction. \n",
      "• For some screen reader learners, the container for the marker controls can receive keyboard \n",
      "focus. \n",
      "• The interactive markers have repeated circle animations around them. The animations cannot \n",
      "be paused, stopped, or hidden. \n",
      "• Some Dragon users might not be able to close the interactive markers’ dialogs using direct \n",
      "command. Dragon users need to say “Click plus” commands to close the dialogs. \n",
      "Accordion (Expand/Collapse) \n",
      "• The accordion component can be expanded/collapsed to reveal additional information about a \n",
      "topic.  \n",
      "• For some screen reader learners, the accordion expand/collapse state is not communicated \n",
      "immediately. Learners would need to use the up and down arrow keys to check the state. \n",
      "Note Block\n"
     ]
    }
   ],
   "source": [
    "print(k[1].page_content)"
   ]
  },
  {
   "cell_type": "code",
   "execution_count": 10,
   "metadata": {},
   "outputs": [],
   "source": [
    "llm = ChatGoogleGenerativeAI(\n",
    "    google_api_key=gooogle_api_key,  # Fixed variable name\n",
    "    model=\"gemini-1.5-pro\",\n",
    "    temperature=0.2,\n",
    "    #max_output_tokens=500,\n",
    "    max_tokens = 500\n",
    ")"
   ]
  },
  {
   "cell_type": "code",
   "execution_count": 11,
   "metadata": {},
   "outputs": [],
   "source": [
    "from langchain.chains import create_retrieval_chain\n",
    "from langchain.chains.combine_documents import create_stuff_documents_chain\n",
    "from langchain_core.prompts import ChatPromptTemplate\n",
    "\n"
   ]
  },
  {
   "cell_type": "code",
   "execution_count": 14,
   "metadata": {},
   "outputs": [],
   "source": [
    "system_prompt = (\n",
    "    \"You are an assistant for question-answering tasks. \"\n",
    "    \"Use the following pieces of retrieved context to answer \"\n",
    "    \"the question. If you don't know the answer, say that you \"\n",
    "    \"don't know. Use three sentences maximum and keep the \"\n",
    "    \"answer concise.\"\n",
    "    \"\\n\\n\"\n",
    "    \"{context}\"\n",
    ")\n",
    "\n",
    "prompt = ChatPromptTemplate(\n",
    "    [\n",
    "        (\"system\",system_prompt),\n",
    "        (\"human\",\"{input}\"),\n",
    "    ]\n",
    ")"
   ]
  },
  {
   "cell_type": "code",
   "execution_count": 15,
   "metadata": {},
   "outputs": [],
   "source": [
    "question_answer_chain = create_stuff_documents_chain(llm,prompt=prompt)\n",
    "rag_chain = create_retrieval_chain(retriver,question_answer_chain)"
   ]
  },
  {
   "cell_type": "code",
   "execution_count": 17,
   "metadata": {},
   "outputs": [
    {
     "name": "stdout",
     "output_type": "stream",
     "text": [
      "This document outlines accessibility features and limitations within Rise360 eLearning courses.  It details keyboard navigation, zoom functionality, and specific behaviors of knowledge checks and interactive elements.  The goal is to provide assistive technology users with information to navigate the courses effectively.\n"
     ]
    }
   ],
   "source": [
    "response = rag_chain.invoke({\"input\": \"what is the conclusion of the document\"})\n",
    "print(response[\"answer\"])"
   ]
  },
  {
   "cell_type": "code",
   "execution_count": null,
   "metadata": {},
   "outputs": [],
   "source": []
  }
 ],
 "metadata": {
  "kernelspec": {
   "display_name": "gem_learn",
   "language": "python",
   "name": "python3"
  },
  "language_info": {
   "codemirror_mode": {
    "name": "ipython",
    "version": 3
   },
   "file_extension": ".py",
   "mimetype": "text/x-python",
   "name": "python",
   "nbconvert_exporter": "python",
   "pygments_lexer": "ipython3",
   "version": "3.10.16"
  }
 },
 "nbformat": 4,
 "nbformat_minor": 2
}
