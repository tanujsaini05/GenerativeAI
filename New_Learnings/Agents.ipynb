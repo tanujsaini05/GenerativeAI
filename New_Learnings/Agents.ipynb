{
 "cells": [
  {
   "cell_type": "code",
   "execution_count": 8,
   "metadata": {},
   "outputs": [],
   "source": [
    "from langchain.agents import initialize_agent,Tool\n",
    "from langchain_google_genai import ChatGoogleGenerativeAI\n",
    "from langchain_community.utilities import SerpAPIWrapper\n",
    "from key import gooogle_api_key,serp_api_key"
   ]
  },
  {
   "cell_type": "code",
   "execution_count": 9,
   "metadata": {},
   "outputs": [],
   "source": [
    "serp_tool = SerpAPIWrapper(serpapi_api_key=serp_api_key)"
   ]
  },
  {
   "cell_type": "code",
   "execution_count": 10,
   "metadata": {},
   "outputs": [],
   "source": [
    "llm = ChatGoogleGenerativeAI(\n",
    "    google_api_key=gooogle_api_key,  # Fixed variable name\n",
    "    model=\"gemini-1.5-pro\",\n",
    "    temperature=0.2,\n",
    "    #max_output_tokens=500,\n",
    "    max_tokens = 500\n",
    ")"
   ]
  },
  {
   "cell_type": "code",
   "execution_count": 11,
   "metadata": {},
   "outputs": [],
   "source": [
    "tools = [\n",
    "    Tool(\n",
    "        name = \"search\",\n",
    "        func = serp_tool.run,\n",
    "        description = \"use this tool to perform the web searches\"\n",
    "    )\n",
    "]"
   ]
  },
  {
   "cell_type": "code",
   "execution_count": 12,
   "metadata": {},
   "outputs": [],
   "source": [
    "agent = initialize_agent(tools=tools,llm = llm,agent=\"zero-shot-react-description\",verbose = True)"
   ]
  },
  {
   "cell_type": "code",
   "execution_count": 14,
   "metadata": {},
   "outputs": [
    {
     "name": "stdout",
     "output_type": "stream",
     "text": [
      "\n",
      "\n",
      "\u001b[1m> Entering new AgentExecutor chain...\u001b[0m\n",
      "\u001b[32;1m\u001b[1;3mQuestion: what is the weather in mullana?\n",
      "Thought: I need to search for the current weather in Mullana.\n",
      "Action: search\n",
      "Action Input: weather in Mullana\u001b[0m\n",
      "Observation: \u001b[36;1m\u001b[1;3m{'type': 'weather_result', 'temperature': '73', 'unit': 'Fahrenheit', 'precipitation': '0%', 'humidity': '51%', 'wind': '6 mph', 'location': 'Mullana, Haryana, India', 'date': 'Monday 5:00 PM', 'weather': 'Sunny'}\u001b[0m\n",
      "Thought:\u001b[32;1m\u001b[1;3mQuestion: what is the weather in mullana?\n",
      "Thought: I need to search for the current weather in Mullana.\n",
      "Action: search\n",
      "Action Input: weather in Mullana\u001b[0m\n",
      "Observation: \u001b[36;1m\u001b[1;3m{'type': 'weather_result', 'temperature': '73', 'unit': 'Fahrenheit', 'precipitation': '0%', 'humidity': '51%', 'wind': '6 mph', 'location': 'Mullana, Haryana, India', 'date': 'Monday 5:00 PM', 'weather': 'Sunny'}\u001b[0m\n",
      "Thought:"
     ]
    },
    {
     "name": "stderr",
     "output_type": "stream",
     "text": [
      "Retrying langchain_google_genai.chat_models._chat_with_retry.<locals>._chat_with_retry in 2.0 seconds as it raised ResourceExhausted: 429 Resource has been exhausted (e.g. check quota)..\n"
     ]
    },
    {
     "name": "stdout",
     "output_type": "stream",
     "text": [
      "\u001b[32;1m\u001b[1;3mThought: I have the weather information for Mullana.\n",
      "Final Answer: The weather in Mullana, Haryana, India is sunny with a temperature of 73°F. The humidity is 51%, wind speed is 6 mph, and there is 0% precipitation.  The time of this information is Monday 5:00 PM.\u001b[0m\n",
      "\n",
      "\u001b[1m> Finished chain.\u001b[0m\n",
      "The weather in Mullana, Haryana, India is sunny with a temperature of 73°F. The humidity is 51%, wind speed is 6 mph, and there is 0% precipitation.  The time of this information is Monday 5:00 PM.\n"
     ]
    }
   ],
   "source": [
    "response  = agent.run('what is the weather in mullana?')\n",
    "print(response)"
   ]
  },
  {
   "cell_type": "code",
   "execution_count": null,
   "metadata": {},
   "outputs": [],
   "source": []
  }
 ],
 "metadata": {
  "kernelspec": {
   "display_name": "gem_learn",
   "language": "python",
   "name": "python3"
  },
  "language_info": {
   "codemirror_mode": {
    "name": "ipython",
    "version": 3
   },
   "file_extension": ".py",
   "mimetype": "text/x-python",
   "name": "python",
   "nbconvert_exporter": "python",
   "pygments_lexer": "ipython3",
   "version": "3.10.16"
  }
 },
 "nbformat": 4,
 "nbformat_minor": 2
}
