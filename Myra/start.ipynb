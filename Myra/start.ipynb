{
 "cells": [
  {
   "cell_type": "markdown",
   "metadata": {},
   "source": [
    "### let's start with the booking agent\n",
    "Agents\n",
    "1. **Flight Search Agent:**  Searches for available flights based on user preferences.\n",
    "2. **Price Comparison Agent:**   Compares flight prices from different sources to get the best deal.\n",
    "3. **Payment Processing Agent:** Handles payment and confirms the booking.\n",
    "4. **Itinerary Manager:**  Sends booking details and manages modifications if needed."
   ]
  },
  {
   "cell_type": "code",
   "execution_count": 1,
   "metadata": {},
   "outputs": [
    {
     "name": "stderr",
     "output_type": "stream",
     "text": [
      "c:\\Users\\tjwin\\anaconda3\\envs\\gem_learn\\lib\\site-packages\\pydantic\\_internal\\_generate_schema.py:775: UserWarning: Mixing V1 models and V2 models (or constructs, like `TypeAdapter`) is not supported. Please upgrade `CrewAgentExecutor` to V2.\n",
      "  warn(\n"
     ]
    }
   ],
   "source": [
    "from crewai import Agent,Task,Process,Crew\n",
    "from crewai_tools import ScrapeWebsiteTool\n"
   ]
  },
  {
   "cell_type": "code",
   "execution_count": 2,
   "metadata": {},
   "outputs": [
    {
     "name": "stderr",
     "output_type": "stream",
     "text": [
      "c:\\Users\\tjwin\\anaconda3\\envs\\gem_learn\\lib\\site-packages\\tqdm\\auto.py:21: TqdmWarning: IProgress not found. Please update jupyter and ipywidgets. See https://ipywidgets.readthedocs.io/en/stable/user_install.html\n",
      "  from .autonotebook import tqdm as notebook_tqdm\n"
     ]
    }
   ],
   "source": [
    "from langchain_google_genai import ChatGoogleGenerativeAI\n",
    "from key import gooogle_api_key"
   ]
  },
  {
   "cell_type": "code",
   "execution_count": 3,
   "metadata": {},
   "outputs": [],
   "source": [
    "model = ChatGoogleGenerativeAI(\n",
    "    model=\"gemini-1.5-flash\",\n",
    "    verbose = True,\n",
    "    temperature=0.5,\n",
    "    google_api_key = gooogle_api_key\n",
    ")"
   ]
  },
  {
   "cell_type": "code",
   "execution_count": 6,
   "metadata": {},
   "outputs": [
    {
     "name": "stderr",
     "output_type": "stream",
     "text": [
      "2025-02-19 19:04:52,061 - 13340 - __init__.py-__init__:537 - WARNING: Overriding of current TracerProvider is not allowed\n"
     ]
    },
    {
     "name": "stdout",
     "output_type": "stream",
     "text": [
      "\n",
      "\n",
      "\u001b[1m> Entering new CrewAgentExecutor chain...\u001b[0m\n",
      "\u001b[32;1m\u001b[1;3mThought: I need to search for flights from Delhi to Mumbai on March 30th, 2025, focusing on the cheapest options.  I'll use MakeMyTrip as a starting point.\n",
      "\n",
      "Action: Read website content\n",
      "\n",
      "Action Input: {\"url\": \"https://www.makemytrip.com\"}\n",
      "\u001b[0m\u001b[95m \n",
      "\n",
      "Access Denied\n",
      "Access Denied\n",
      "You don't have permission to access \"http://www.makemytrip.com/\" on this server.\n",
      "Reference #18.3e7056b8.1739972093.25fa8ffa\n",
      "https://errors.edgesuite.net/18.3e7056b8.1739972093.25fa8ffa\n",
      "\u001b[00m\n",
      "\u001b[32;1m\u001b[1;3mThought: MakeMyTrip is inaccessible. I need to try a different approach using a general web search.\n",
      "\n",
      "Action: Search the internet\n",
      "\n",
      "Action Input: {\"search_query\": \"cheap flights Delhi to Mumbai March 30 2025\"}\n",
      "\u001b[0m\u001b[95m \n",
      "\n",
      "\n",
      "Search results: Title: Cheap Flights from Delhi to Mumbai (DEL-BOM) - Expedia.com\n",
      "Link: https://www.expedia.com/lp/flights/del/bom/delhi-to-mumbai\n",
      "Snippet: Cheap Flights from Delhi (DEL) to Mumbai (BOM) start at $55 for one-way and $111 for round trip. Earn your airline miles on top of our rewards!\n",
      "---\n",
      "Title: Cheap Flight Deals from New Delhi to Mumbai (DEL-BOM) - Kayak\n",
      "Link: https://www.kayak.com/flight-routes/New-Delhi-Indira-Gandhi-Intl-DEL/Mumbai-Chhatrapati-Shivaji-BOM\n",
      "Snippet: Find flights to Mumbai from $71. Fly from New Delhi on IndiGo, Air India and more. Search for Mumbai flights on KAYAK now to find the best deal.\n",
      "---\n",
      "Title: From Indira Gandhi International (DEL) - To Mumbai (BOM)\n",
      "Link: https://www.skyscanner.com/routes/del/bom/indira-gandhi-international-to-mumbai.html\n",
      "Snippet: The best price we've seen for a one-way ticket from Indira Gandhi International Airport to Chhatrapati Shivaji International Airport is $48. The cheapest price ...\n",
      "---\n",
      "Title: Delhi to Mumbai Flights, Fares @ ₹ ... - MakeMyTrip\n",
      "Link: https://www.makemytrip.com/flights/new_delhi-mumbai-cheap-airtickets.html\n",
      "Snippet: A: The lowest airfare for flying Delhi to Mumbai is ✓Rs. 4501. This deal is available only for the next 30 days! Q: How many flights fly from Delhi to Mumbai ...\n",
      "---\n",
      "Title: Cheap flights from New Delhi to Mumbai from ... - Momondo\n",
      "Link: https://www.momondo.com/flights/new-delhi/mumbai\n",
      "Snippet: Search and compare airfare from 1000+ airlines and travel sites to get the cheapest flights from New Delhi to Mumbai with momondo.\n",
      "---\n",
      "Title: Find Cheap Flights from New Delhi to Mumbai - Google\n",
      "Link: https://www.google.com/travel/flights/flights-from-new-delhi-to-mumbai.html\n",
      "Snippet: Popular airlines from New Delhi to Mumbai · Air India. Nonstop. from $127. Typical price: $110–175 · IndiGo. Nonstop. from $110. Typical price: $85–130 · Akasa Air.\n",
      "---\n",
      "Title: Delhi DEL to Mumbai BOM Cheap Flights ✈, Fares ... - MakeMyTrip\n",
      "Link: https://www.makemytrip.com/international-flights/united_states/delhi-mumbai-cheap-airtickets.html\n",
      "Snippet: Lowest Fare to Travel with Date, $ 49- 16 Jul ; Total flights from Delhi to Mumbai in a week, 87 Flights ; First Flight, IndiGo, departs at 01:45 ; Last Flight ...\n",
      "---\n",
      "Title: Delhi to Mumbai flights - IndiGo\n",
      "Link: https://www.goindigo.in/domestic-flights/delhi-to-mumbai-flights.html\n",
      "Snippet: Book Delhi to Mumbai flight tickets at cheapest price. Airfares at ₹5342 and avail IndiGo flight offers, 10% discount and cashback on goIndiGo.in website ...\n",
      "---\n",
      "Title: Delhi to Mumbai Flights - Air India\n",
      "Link: https://www.airindia.com/en-us/book-flights/delhi-to-mumbai-flights\n",
      "Snippet: With 20+ daily flights from Delhi to Mumbai, you can choose the flight as per your convenience. Use Promo Code UPIPROMO and get a discount up to INR 1200 when ...\n",
      "---\n",
      "Title: Find Cheap Flights Options to Mumbai - Google\n",
      "Link: https://www.google.com/travel/flights/flights-to-mumbai.html\n",
      "Snippet: Use Google Flights to find cheap departing flights to Mumbai and to track prices for specific travel dates for your next getaway.\n",
      "---\n",
      "\n",
      "\u001b[00m\n",
      "\u001b[32;1m\u001b[1;3mThought:The search results provide several links to flight comparison websites and airlines. I will extract the links and relevant information to present as the final answer.  However, I cannot access the content of these links to get prices and details.  My response will therefore be limited to providing the links.\n",
      "\n",
      "Thought: I now know the final answer\n",
      "\n",
      "Final Answer:  The following links may contain information on cheap flights from Delhi to Mumbai on March 30th, 2025.  Please note that I cannot access the content of these links to verify pricing and details.\n",
      "\n",
      "* https://www.expedia.com/lp/flights/del/bom/delhi-to-mumbai\n",
      "* https://www.kayak.com/flight-routes/New-Delhi-Indira-Gandhi-Intl-DEL/Mumbai-Chhatrapati-Shivaji-BOM\n",
      "* https://www.skyscanner.com/routes/del/bom/indira-gandhi-international-to-mumbai.html\n",
      "* https://www.makemytrip.com/flights/new_delhi-mumbai-cheap-airtickets.html\n",
      "* https://www.momondo.com/flights/new-delhi/mumbai\n",
      "* https://www.google.com/travel/flights/flights-from-new-delhi-to-mumbai.html\n",
      "* https://www.makemytrip.com/international-flights/united_states/delhi-mumbai-cheap-airtickets.html\n",
      "* https://www.goindigo.in/domestic-flights/delhi-to-mumbai-flights.html\n",
      "* https://www.airindia.com/en-us/book-flights/delhi-to-mumbai-flights\n",
      "* https://www.google.com/travel/flights/flights-to-mumbai.html\n",
      "\n",
      "\u001b[0m\n",
      "\n",
      "\u001b[1m> Finished chain.\u001b[0m\n"
     ]
    }
   ],
   "source": [
    "duckduck = ScrapeWebsiteTool(\"https://www.makemytrip.com\")\n",
    "from crewai_tools import SerperDevTool\n",
    "from key import serp\n",
    "import os\n",
    "os.environ['SERPER_API_KEY'] =serp\n",
    "\n",
    "\n",
    "serper = SerperDevTool()\n",
    "\n",
    "\n",
    "search_agent = Agent(\n",
    "    role = \"Flight search agent\",\n",
    "    goal = \"Search for flights tickets at minimum cost.\",\n",
    "    verbose = True,\n",
    "    backstory = (\"you are expert at searching in the flights at minimum cost.\"),\n",
    "    tools = [duckduck,serper],\n",
    "    llm = model\n",
    ")\n",
    "\n",
    "search_task = Task(\n",
    "    description = (\n",
    "        \"\"\"search for the flight from the {origin} to {destination} on {date}.\n",
    "        look for the best and cheap flights and return the links to book tickets.\"\"\"\n",
    "    ),\n",
    "    expected_output = \"a list of top flight booking links with prices and details\",\n",
    "    tools = [duckduck,serper],\n",
    "    agent = search_agent\n",
    ")\n",
    "\n",
    "\n",
    "crew_flight = Crew(\n",
    "    agents = [search_agent],\n",
    "    tasks = [search_task],\n",
    "    process = Process.sequential\n",
    ")\n",
    "\n",
    "result = crew_flight.kickoff(inputs = {\n",
    "    \"origin\" :\"Delhi\",\n",
    "    \"destination\" : \"Mumbai\",\n",
    "    \"date\" : \"2025-03-30\"  \n",
    "})"
   ]
  },
  {
   "cell_type": "code",
   "execution_count": 7,
   "metadata": {},
   "outputs": [
    {
     "name": "stdout",
     "output_type": "stream",
     "text": [
      "The following links may contain information on cheap flights from Delhi to Mumbai on March 30th, 2025.  Please note that I cannot access the content of these links to verify pricing and details.\n",
      "\n",
      "* https://www.expedia.com/lp/flights/del/bom/delhi-to-mumbai\n",
      "* https://www.kayak.com/flight-routes/New-Delhi-Indira-Gandhi-Intl-DEL/Mumbai-Chhatrapati-Shivaji-BOM\n",
      "* https://www.skyscanner.com/routes/del/bom/indira-gandhi-international-to-mumbai.html\n",
      "* https://www.makemytrip.com/flights/new_delhi-mumbai-cheap-airtickets.html\n",
      "* https://www.momondo.com/flights/new-delhi/mumbai\n",
      "* https://www.google.com/travel/flights/flights-from-new-delhi-to-mumbai.html\n",
      "* https://www.makemytrip.com/international-flights/united_states/delhi-mumbai-cheap-airtickets.html\n",
      "* https://www.goindigo.in/domestic-flights/delhi-to-mumbai-flights.html\n",
      "* https://www.airindia.com/en-us/book-flights/delhi-to-mumbai-flights\n",
      "* https://www.google.com/travel/flights/flights-to-mumbai.html\n"
     ]
    }
   ],
   "source": [
    "print(result)"
   ]
  },
  {
   "cell_type": "code",
   "execution_count": 3,
   "metadata": {},
   "outputs": [],
   "source": [
    "from crewai import  Crew,Agent,Task,Process\n",
    "from key import gooogle_api_key,serp\n",
    "from langchain_google_genai import ChatGoogleGenerativeAI\n",
    "from crewai_tools import SerperDevTool,ScrapeWebsiteTool\n",
    "import os"
   ]
  },
  {
   "cell_type": "code",
   "execution_count": null,
   "metadata": {},
   "outputs": [],
   "source": [
    "# Gemini flash model\n",
    "\n",
    "model = ChatGoogleGenerativeAI(\n",
    "    model = \"gemini-1.5-flash\",\n",
    "    temperature = 0.5,\n",
    "    verbose = True,\n",
    "    google_api_key  = gooogle_api_key\n",
    ")\n",
    "\n",
    "#tool\n",
    "\n",
    "os.environ[\"SERPER_API_KEY\"] = serp\n",
    "serper = SerperDevTool()\n",
    "scraper = ScrapeWebsiteTool(\"https://www.makemytrip.com/\")\n",
    "\n",
    "# Search Agent\n",
    "\n",
    "search = Agent(\n",
    "    role = \"Managing Speacialist\",\n",
    "    goal = \"streamline the flights , trains ,hotels, and popular places at the destination.\",\n",
    "    backstory = (\"\"\"You are skilled in finding the best deals and securing bookings quickly at cheapest.\"\"\"),\n",
    "    memory = True,\n",
    "    allow_deligation = True,\n",
    "    tools = [serper,scraper],\n",
    "    llm = model\n",
    ")\n",
    "\n",
    "\n",
    "#task\n",
    "\n",
    "\n",
    "searching_task = Task(\n",
    "    description = (\"streamline the flight, and trains from {origin} to {destination} and hotels at{destination} for {people} people at cheapest and in budget of {budget} and search popular places in {destination}. they should be properly arranged and also give links in output.\"),\n",
    "    #tools = [serper,scraper],\n",
    "    agent = search,\n",
    "    async_execution = True,\n",
    "    expected_output = \"blocks with in headings either flihgts, trains, hotels or places.\",\n",
    "    output_file = \"links.md\"\n",
    ")\n",
    "\n",
    "\n",
    "#crew\n",
    "\n",
    "crew = Crew(\n",
    "    agents = [search],\n",
    "    task = [searching_task],\n",
    "    process = Process.sequential\n",
    ")\n",
    "\n",
    "result = crew.kickoff(\n",
    "    inputs = {\n",
    "        \"origin\" :\"Chandigarh\",\n",
    "        \"destination\" : \"Srinagar\",\n",
    "        \"people\" : 3,\n",
    "        \"budget\" : 30000,\n",
    "    }\n",
    ")\n"
   ]
  },
  {
   "cell_type": "code",
   "execution_count": null,
   "metadata": {},
   "outputs": [],
   "source": [
    "from IPython.display import Markdown, display\n",
    "\n",
    "# Path to your Markdown file\n",
    "\n",
    "\n",
    "# Open and read the Markdown file\n",
    "with open(\"links.md\", \"r\", encoding=\"utf-8\") as md_file:\n",
    "    content = md_file.read()\n",
    "\n",
    "# Render and display the Markdown content in the notebook\n",
    "display(Markdown(content))"
   ]
  }
 ],
 "metadata": {
  "kernelspec": {
   "display_name": "gem_learn",
   "language": "python",
   "name": "python3"
  },
  "language_info": {
   "codemirror_mode": {
    "name": "ipython",
    "version": 3
   },
   "file_extension": ".py",
   "mimetype": "text/x-python",
   "name": "python",
   "nbconvert_exporter": "python",
   "pygments_lexer": "ipython3",
   "version": "3.10.16"
  }
 },
 "nbformat": 4,
 "nbformat_minor": 2
}
