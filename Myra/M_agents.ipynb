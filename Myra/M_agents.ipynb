{
 "cells": [
  {
   "cell_type": "code",
   "execution_count": 4,
   "metadata": {},
   "outputs": [],
   "source": [
    "from crewai import Agent,Task,Process,Crew\n",
    "from key import gooogle_api_key,serp\n",
    "from crewai_tools import SerperDevTool,ScrapeWebsiteTool\n",
    "import os\n",
    "from langchain_google_genai import ChatGoogleGenerativeAI"
   ]
  },
  {
   "cell_type": "markdown",
   "metadata": {},
   "source": [
    "#### Tools and Gemini Model"
   ]
  },
  {
   "cell_type": "code",
   "execution_count": 5,
   "metadata": {},
   "outputs": [],
   "source": [
    "os.environ[\"SERPER_API_KEY\"] = serp\n",
    "model = ChatGoogleGenerativeAI(\n",
    "    model = \"gemini-1.5-flash\",\n",
    "    temperature = 0.5,\n",
    "    verbose = True,\n",
    "    google_api_key  = gooogle_api_key\n",
    ")\n",
    "\n",
    "serper = SerperDevTool()\n",
    "scrape = ScrapeWebsiteTool('https://www.makemytrip.com/')"
   ]
  },
  {
   "cell_type": "markdown",
   "metadata": {},
   "source": [
    "#### Agents"
   ]
  },
  {
   "cell_type": "code",
   "execution_count": null,
   "metadata": {},
   "outputs": [],
   "source": [
    "travel_planner_ag = Agent(\n",
    "    role = \"Travel Planner\",\n",
    "    goal = \"Suggest desinations based on the user preferences.\",\n",
    "    backstory = (\"An expert in travel planning who knows the best destinations for every type of traveler.\"),\n",
    "    tools = [serper,scrape],\n",
    "    memory = True,\n",
    "    allow_deligation = True,\n",
    "    llm = model ,verbose = True\n",
    ")"
   ]
  },
  {
   "cell_type": "code",
   "execution_count": 14,
   "metadata": {},
   "outputs": [],
   "source": [
    "flight_search_ag = Agent(\n",
    "    role = \"find flight/train tickets according to user preference\",\n",
    "    goal = \"streamline the flights/trains available for the destination at cheapest and in budget.\",\n",
    "    backstory = (\"You are skilled in finding the best deals quickly at cheapest.\"),\n",
    "    tools = [serper,scrape],\n",
    "    memory = True,\n",
    "    allow_deligation = True,\n",
    "    llm = model,\n",
    "    verbose = True\n",
    ")"
   ]
  },
  {
   "cell_type": "code",
   "execution_count": 10,
   "metadata": {},
   "outputs": [],
   "source": [
    "hotel_search_ag = Agent(\n",
    "    role = \"Accommodation Agent\",\n",
    "    goal = \"Streamline the Hotels/lodges available at the destination place and in budget.\",\n",
    "    backstory = (\"You are skilled in finding the best deals quickly at cheapest.\"),\n",
    "    tools = [serper,scrape],\n",
    "    memory = True,\n",
    "    allow_deligation = True,\n",
    "    llm = model,\n",
    "    verbose = True\n",
    ")"
   ]
  },
  {
   "cell_type": "code",
   "execution_count": 11,
   "metadata": {},
   "outputs": [],
   "source": [
    "itinerary_ag = Agent(\n",
    "    role = \"Itinerary Agent\",\n",
    "    goal=\"Create a detailed travel itinerary with activities, restaurants, and transportation in user buget\",\n",
    "    backstory=\"A meticulous planner who ensures travelers have a smooth and enjoyable trip.\",\n",
    "    tools = [serper,scrape],\n",
    "    memory = True,\n",
    "    allow_deligation = True,\n",
    "    llm = model,\n",
    "    verbose = True\n",
    ")"
   ]
  },
  {
   "cell_type": "code",
   "execution_count": 12,
   "metadata": {},
   "outputs": [],
   "source": [
    "user_interaction_ag = Agent(\n",
    "    role=\"User Interaction Agent\",\n",
    "    goal=\"Interact with the user and manage the conversation flow\",\n",
    "    backstory=\"A friendly assistant who helps users plan their trips seamlessly.\",\n",
    "    tools = [serper,scrape],\n",
    "    memory = True,\n",
    "    allow_deligation = True,\n",
    "    llm = model,\n",
    "    verbose = True\n",
    ")"
   ]
  },
  {
   "cell_type": "markdown",
   "metadata": {},
   "source": [
    "- specifing the tasks according to all the agents\n",
    "- they will perform accordingly "
   ]
  },
  {
   "cell_type": "markdown",
   "metadata": {},
   "source": [
    "### Tasks"
   ]
  },
  {
   "cell_type": "code",
   "execution_count": 13,
   "metadata": {},
   "outputs": [],
   "source": [
    "travel_planner_task = Task(\n",
    "    description = \"streamline the places where user can visit including the main activity at {destination}.\",\n",
    "    agent = travel_planner,\n",
    "    async_execution = True,\n",
    "    expected_output = \"give some cards like website having suggestion places.\",\n",
    ")"
   ]
  },
  {
   "cell_type": "code",
   "execution_count": 16,
   "metadata": {},
   "outputs": [],
   "source": [
    "flight_suggestion_task = Task(\n",
    "    description = \"streamline the flights from {origin} to {destination} for {people} people on {date}.\",\n",
    "    agent = flight_search_ag,\n",
    "    async_execution = True,\n",
    "    expected_output = \"blocks with heading suggesting tickets including links \",\n",
    ")"
   ]
  },
  {
   "cell_type": "code",
   "execution_count": 17,
   "metadata": {},
   "outputs": [],
   "source": [
    "hotel_suggestion_task = Task(\n",
    "    description = \"streamline the Hotels in {destination} for {people} people on {date} for stay of {days} days.\",\n",
    "    agent = flight_search_ag,\n",
    "    async_execution = True,\n",
    "    expected_output = \"blocks with heading suggesting hotels including links \",\n",
    ")"
   ]
  },
  {
   "cell_type": "code",
   "execution_count": 21,
   "metadata": {},
   "outputs": [],
   "source": [
    "itinerary_task = Task(\n",
    "    description=\"Create a detailed travel itinerary with activities, restaurants, and transportation.\",\n",
    "    agent=itinerary_ag,\n",
    "    async_execution = True,\n",
    "    expected_output = \"complete plan of {days} days with time mentioned of each activity taking care of rest breakfast, lunch, dinner and rest\",\n",
    ")"
   ]
  },
  {
   "cell_type": "code",
   "execution_count": 22,
   "metadata": {},
   "outputs": [],
   "source": [
    "user_interaction_task = Task(\n",
    "    description = \"collect all the required input from the user that agents need to work like origin, destination,number of days to stay , number of people going, what's their budget\",\n",
    "    agent = user_interaction_ag,\n",
    "    async_execution = True,\n",
    "    expected_output  = \" give inputs to other agents to work\"\n",
    ")"
   ]
  },
  {
   "cell_type": "markdown",
   "metadata": {},
   "source": [
    "- All tasks are made Now we will look for the particular apis and tools to perform all the activities properly"
   ]
  },
  {
   "cell_type": "code",
   "execution_count": null,
   "metadata": {},
   "outputs": [],
   "source": []
  }
 ],
 "metadata": {
  "kernelspec": {
   "display_name": "gem_learn",
   "language": "python",
   "name": "python3"
  },
  "language_info": {
   "codemirror_mode": {
    "name": "ipython",
    "version": 3
   },
   "file_extension": ".py",
   "mimetype": "text/x-python",
   "name": "python",
   "nbconvert_exporter": "python",
   "pygments_lexer": "ipython3",
   "version": "3.10.16"
  }
 },
 "nbformat": 4,
 "nbformat_minor": 2
}
